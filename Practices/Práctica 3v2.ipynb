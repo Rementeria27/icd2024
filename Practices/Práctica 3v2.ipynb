{
 "cells": [
  {
   "cell_type": "markdown",
   "id": "d81f4ba4-5a69-4a0d-9dc7-41eca9bafb09",
   "metadata": {},
   "source": [
    "# **Práctica #3: Regresión**"
   ]
  },
  {
   "cell_type": "markdown",
   "id": "c8d1c6ae-1957-4de6-9a39-09cf39312a70",
   "metadata": {},
   "source": [
    "La tercer práctica consiste en predecir el valor de una variable a partir de un conjunto de variables predictoras en un dataset de venta de casas en Italia. La variable a predecir será el precio de una casa.\n",
    "\n",
    "Se deberá realizar:\n",
    "- La limpieza de los datos.\n",
    "- Un análisis exploratorio de los datos.\n",
    "- Una técnica de reducción de dimensionalidad.\n",
    "- Extracción de características para crear por lo menos 2 atributos nuevos (que sean interesantes).\n",
    "- Aplicar al menos dos técnicas de selección de características.\n",
    "- Entrenar al menos 4 modelos de regresión diferentes (uno tiene que ser regresión lineal),\n",
    "- Reportar el resultado de evaluación con una partición de los datos local.\n",
    "- Reportar el resultado de evaluación con un conjunto de datos de prueba que se les será proporcionado dos días antes.\n",
    "- Escribir una discusión y las conclusiones sobre el trabajo realizado."
   ]
  },
  {
   "cell_type": "markdown",
   "id": "58a75546-538c-4e3d-a4a2-4569816a7f2b",
   "metadata": {},
   "source": [
    "Para dar inicio, importamos las librerías que vamos a utilizar en la práctica junto al dataset de entrenamiento"
   ]
  },
  {
   "cell_type": "code",
   "execution_count": 1,
   "id": "6d36bc12-d4e9-451b-a493-ef70520060eb",
   "metadata": {},
   "outputs": [],
   "source": [
    "import numpy as np\n",
    "import pandas as pd\n",
    "import datetime as dt\n",
    "import matplotlib.pyplot as plt\n",
    "import seaborn as sns\n",
    "import time\n",
    "from umap import UMAP"
   ]
  },
  {
   "cell_type": "code",
   "execution_count": 2,
   "id": "69d566e0-3d28-431d-8733-ee293e6be19f",
   "metadata": {},
   "outputs": [],
   "source": [
    "train_df = pd.read_csv(f'train_housing_data_italy.csv', na_values=r'\\N')\n"
   ]
  },
  {
   "cell_type": "markdown",
   "id": "e223e601-f295-4d86-ba0d-3f654dc1548e",
   "metadata": {},
   "source": [
    "## Análisis exploratorio"
   ]
  },
  {
   "cell_type": "markdown",
   "id": "8df67b8f-2220-4e43-a074-2666f4a305c5",
   "metadata": {},
   "source": [
    "Antes de comenzar a limpiar los datos, tendremos que analizar el *dataframe* para tomar la decisión de eliminar, cambiar o agregar datos."
   ]
  },
  {
   "cell_type": "code",
   "execution_count": 3,
   "id": "2f295878-e05f-4fb1-9886-eb26ff6f540a",
   "metadata": {},
   "outputs": [
    {
     "data": {
      "text/html": [
       "<div>\n",
       "<style scoped>\n",
       "    .dataframe tbody tr th:only-of-type {\n",
       "        vertical-align: middle;\n",
       "    }\n",
       "\n",
       "    .dataframe tbody tr th {\n",
       "        vertical-align: top;\n",
       "    }\n",
       "\n",
       "    .dataframe thead th {\n",
       "        text-align: right;\n",
       "    }\n",
       "</style>\n",
       "<table border=\"1\" class=\"dataframe\">\n",
       "  <thead>\n",
       "    <tr style=\"text-align: right;\">\n",
       "      <th></th>\n",
       "      <th>timestamp</th>\n",
       "      <th>location</th>\n",
       "      <th>title</th>\n",
       "      <th>price</th>\n",
       "      <th>n_rooms</th>\n",
       "      <th>floor</th>\n",
       "      <th>mq</th>\n",
       "      <th>n_bathrooms</th>\n",
       "      <th>year_of_construction</th>\n",
       "      <th>availability</th>\n",
       "      <th>...</th>\n",
       "      <th>has_balcony</th>\n",
       "      <th>has_fireplace</th>\n",
       "      <th>has_alarm</th>\n",
       "      <th>has_air_conditioning</th>\n",
       "      <th>has_pool</th>\n",
       "      <th>has_parking</th>\n",
       "      <th>has_elevator</th>\n",
       "      <th>is_furnished</th>\n",
       "      <th>latitude</th>\n",
       "      <th>longitude</th>\n",
       "    </tr>\n",
       "  </thead>\n",
       "  <tbody>\n",
       "    <tr>\n",
       "      <th>0</th>\n",
       "      <td>1.661114e+09</td>\n",
       "      <td>siculiana</td>\n",
       "      <td>villa unifamiliare via campo spoto 38, siculiana</td>\n",
       "      <td>46000.0</td>\n",
       "      <td>4.0</td>\n",
       "      <td>NaN</td>\n",
       "      <td>85.0</td>\n",
       "      <td>2.0</td>\n",
       "      <td>NaN</td>\n",
       "      <td>not free / other</td>\n",
       "      <td>...</td>\n",
       "      <td>0</td>\n",
       "      <td>0</td>\n",
       "      <td>0</td>\n",
       "      <td>0</td>\n",
       "      <td>0</td>\n",
       "      <td>0</td>\n",
       "      <td>0</td>\n",
       "      <td>0</td>\n",
       "      <td>373.380.858</td>\n",
       "      <td>134.219.962</td>\n",
       "    </tr>\n",
       "    <tr>\n",
       "      <th>1</th>\n",
       "      <td>1.661114e+09</td>\n",
       "      <td>strongoli</td>\n",
       "      <td>quadrilocale contrada tronga 211, tronca, stro...</td>\n",
       "      <td>120000.0</td>\n",
       "      <td>4.0</td>\n",
       "      <td>2.0</td>\n",
       "      <td>190.0</td>\n",
       "      <td>2.0</td>\n",
       "      <td>NaN</td>\n",
       "      <td>not free / other</td>\n",
       "      <td>...</td>\n",
       "      <td>0</td>\n",
       "      <td>0</td>\n",
       "      <td>0</td>\n",
       "      <td>0</td>\n",
       "      <td>0</td>\n",
       "      <td>0</td>\n",
       "      <td>0</td>\n",
       "      <td>0</td>\n",
       "      <td>392.639.586</td>\n",
       "      <td>170.520.257</td>\n",
       "    </tr>\n",
       "    <tr>\n",
       "      <th>2</th>\n",
       "      <td>1.661114e+09</td>\n",
       "      <td>zelbio</td>\n",
       "      <td>bilocale buono stato, piano terra, zelbio</td>\n",
       "      <td>55000.0</td>\n",
       "      <td>2.0</td>\n",
       "      <td>NaN</td>\n",
       "      <td>85.0</td>\n",
       "      <td>1.0</td>\n",
       "      <td>NaN</td>\n",
       "      <td>not free / other</td>\n",
       "      <td>...</td>\n",
       "      <td>0</td>\n",
       "      <td>1</td>\n",
       "      <td>0</td>\n",
       "      <td>1</td>\n",
       "      <td>0</td>\n",
       "      <td>0</td>\n",
       "      <td>0</td>\n",
       "      <td>0</td>\n",
       "      <td>45.904.582</td>\n",
       "      <td>9.180.539</td>\n",
       "    </tr>\n",
       "    <tr>\n",
       "      <th>3</th>\n",
       "      <td>1.661114e+09</td>\n",
       "      <td>villamagna</td>\n",
       "      <td>casa colonica, da ristrutturare, 319 m², villa...</td>\n",
       "      <td>130000.0</td>\n",
       "      <td>4.0</td>\n",
       "      <td>NaN</td>\n",
       "      <td>319.0</td>\n",
       "      <td>1.0</td>\n",
       "      <td>NaN</td>\n",
       "      <td>not free / other</td>\n",
       "      <td>...</td>\n",
       "      <td>0</td>\n",
       "      <td>0</td>\n",
       "      <td>0</td>\n",
       "      <td>0</td>\n",
       "      <td>0</td>\n",
       "      <td>0</td>\n",
       "      <td>0</td>\n",
       "      <td>0</td>\n",
       "      <td>423.332.946</td>\n",
       "      <td>142.368.079</td>\n",
       "    </tr>\n",
       "    <tr>\n",
       "      <th>4</th>\n",
       "      <td>1.661114e+09</td>\n",
       "      <td>vallefiorita</td>\n",
       "      <td>appartamento corso italia, vallefiorita</td>\n",
       "      <td>30000.0</td>\n",
       "      <td>NaN</td>\n",
       "      <td>NaN</td>\n",
       "      <td>143.0</td>\n",
       "      <td>2.0</td>\n",
       "      <td>NaN</td>\n",
       "      <td>not free / other</td>\n",
       "      <td>...</td>\n",
       "      <td>0</td>\n",
       "      <td>0</td>\n",
       "      <td>0</td>\n",
       "      <td>1</td>\n",
       "      <td>0</td>\n",
       "      <td>0</td>\n",
       "      <td>0</td>\n",
       "      <td>0</td>\n",
       "      <td>38.776.385</td>\n",
       "      <td>16.461.003</td>\n",
       "    </tr>\n",
       "  </tbody>\n",
       "</table>\n",
       "<p>5 rows × 26 columns</p>\n",
       "</div>"
      ],
      "text/plain": [
       "      timestamp      location  \\\n",
       "0  1.661114e+09     siculiana   \n",
       "1  1.661114e+09     strongoli   \n",
       "2  1.661114e+09        zelbio   \n",
       "3  1.661114e+09    villamagna   \n",
       "4  1.661114e+09  vallefiorita   \n",
       "\n",
       "                                               title     price  n_rooms  \\\n",
       "0   villa unifamiliare via campo spoto 38, siculiana   46000.0      4.0   \n",
       "1  quadrilocale contrada tronga 211, tronca, stro...  120000.0      4.0   \n",
       "2          bilocale buono stato, piano terra, zelbio   55000.0      2.0   \n",
       "3  casa colonica, da ristrutturare, 319 m², villa...  130000.0      4.0   \n",
       "4            appartamento corso italia, vallefiorita   30000.0      NaN   \n",
       "\n",
       "   floor     mq  n_bathrooms  year_of_construction      availability  ...  \\\n",
       "0    NaN   85.0          2.0                   NaN  not free / other  ...   \n",
       "1    2.0  190.0          2.0                   NaN  not free / other  ...   \n",
       "2    NaN   85.0          1.0                   NaN  not free / other  ...   \n",
       "3    NaN  319.0          1.0                   NaN  not free / other  ...   \n",
       "4    NaN  143.0          2.0                   NaN  not free / other  ...   \n",
       "\n",
       "  has_balcony has_fireplace has_alarm  has_air_conditioning  has_pool  \\\n",
       "0           0             0         0                     0         0   \n",
       "1           0             0         0                     0         0   \n",
       "2           0             1         0                     1         0   \n",
       "3           0             0         0                     0         0   \n",
       "4           0             0         0                     1         0   \n",
       "\n",
       "   has_parking  has_elevator  is_furnished     latitude    longitude  \n",
       "0            0             0             0  373.380.858  134.219.962  \n",
       "1            0             0             0  392.639.586  170.520.257  \n",
       "2            0             0             0   45.904.582    9.180.539  \n",
       "3            0             0             0  423.332.946  142.368.079  \n",
       "4            0             0             0   38.776.385   16.461.003  \n",
       "\n",
       "[5 rows x 26 columns]"
      ]
     },
     "execution_count": 3,
     "metadata": {},
     "output_type": "execute_result"
    }
   ],
   "source": [
    "train_df.head()"
   ]
  },
  {
   "cell_type": "code",
   "execution_count": 4,
   "id": "a2a498fa-5008-4f61-ac04-42c9c058f42d",
   "metadata": {},
   "outputs": [
    {
     "data": {
      "text/plain": [
       "timestamp                   0\n",
       "location                    0\n",
       "title                       0\n",
       "price                   37478\n",
       "n_rooms                 57848\n",
       "floor                   69102\n",
       "mq                       3889\n",
       "n_bathrooms             13804\n",
       "year_of_construction       10\n",
       "availability                0\n",
       "energy_class              648\n",
       "status                      0\n",
       "heating                     0\n",
       "has_garage                  0\n",
       "has_terrace                 0\n",
       "has_garden                  0\n",
       "has_balcony                 0\n",
       "has_fireplace               0\n",
       "has_alarm                   0\n",
       "has_air_conditioning        0\n",
       "has_pool                    0\n",
       "has_parking                 0\n",
       "has_elevator                0\n",
       "is_furnished                0\n",
       "latitude                   60\n",
       "longitude                  60\n",
       "dtype: int64"
      ]
     },
     "execution_count": 4,
     "metadata": {},
     "output_type": "execute_result"
    }
   ],
   "source": [
    "train_df.isnull().sum()\n"
   ]
  },
  {
   "cell_type": "code",
   "execution_count": 5,
   "id": "c6450ace-c2a4-4e6c-a334-d88859052721",
   "metadata": {},
   "outputs": [
    {
     "data": {
      "text/plain": [
       "213409"
      ]
     },
     "execution_count": 5,
     "metadata": {},
     "output_type": "execute_result"
    }
   ],
   "source": [
    "len(train_df.index)"
   ]
  },
  {
   "cell_type": "markdown",
   "id": "eee59889-7971-4183-a125-cec47b7d5d55",
   "metadata": {},
   "source": [
    "De lo anterior podemos notar que alrededor de una cuarta parte de los registros no tiene información en el campo *floor* y *n_rooms*. Además, una séptima parte no tiene información de *price* y solo tenemos tres opciones: rellenar los campos vacíos, eliminar sus registros o no hacer nada... Para fines de esta tarea, el objetivo será buscar un conjunto de datos de entrenamiento con 0 valores *null* ya sea rellenando campos vacíos o eliminando registros."
   ]
  },
  {
   "cell_type": "markdown",
   "id": "f1fc9e51-b9d6-4210-9890-9082da570318",
   "metadata": {},
   "source": [
    "## Limpieza de datos"
   ]
  },
  {
   "cell_type": "markdown",
   "id": "7a5ec9e5-db47-4882-b2cc-4e75bfda377c",
   "metadata": {},
   "source": [
    "De antemano podemos ver que campos como la *latitud* y *longitud* refieren a la ubicación de la vivienda, al igual que la *localidad*, y con esto podemos pensar en una analogía en las colonias de Ensenada o en las ciudades de Baja California, que dependiendo de la ciudad o colonia los precios pueden ser más altos o bajos. De igual forma, las dimensiones de la vivienda, expresadas con *mq* (del italiano: metros quadratos) también van a influir en el precio de la vivienda, así como la antigüedad de la vivienda o si cuentan o no con ciertas amenidades. De momento la limpieza solo se limitará a eliminar registros, rellenar campos y a eliminar columnas. Dejaremos la creación de nuevos atributos para la **Extracción de características**.\n",
    "\n",
    "Si elimináramos todos los registros que tienen al menos un campo *null*, estaríamos eliminando como mínimo una cuarta parte de los datos de entrenamiento, por lo que, para los campos *n_rooms*, *floor*, y *n_bathrooms* buscaremos rellenar los campos con algún valor estándar. Por otra parte, el campo *price* es lo que buscamos pronosticar, y agregar información ficticia puede perturbar nuestro modelo, por lo que simplemente eliminaremos esos registros que representan 1/7 del total de datos de entrenamiento. Para los campos de *latitude* y *longitude* no hay muchas implicaciones ya que son pocos registros, así que también serán eliminados. Por último, para *energy_class* y *year_of_construction* rellenaremos el campo, sin embargo, usaremos *year_of_construction* más adelante para obtener un nuevo atributo. \n",
    "\n",
    "Dicho todo lo anterior, consideraremos las siguientes reglas:\n",
    "- *price*: eliminar el registro completo si *price* es vacío o si *price* < 10000 \n",
    "- *n_rooms*: 1 si el campo es vacío\n",
    "- *floor*: 1 si el campo es vacío\n",
    "- *n_bathrooms*: 1 si el campo es vacío\n",
    "- *year_of_construction*: 0 si el campo es vacío\n",
    "- *energy_class*: other si el campo es vacío\n",
    "- *latitude*: eliminar el registro completo si *latitude* es vacío\n",
    "- *longitude*: eliminar el registro completo si *longitude* es vacío"
   ]
  },
  {
   "cell_type": "code",
   "execution_count": 6,
   "id": "24140a41-fdd2-40c2-81f0-8f07404d7286",
   "metadata": {},
   "outputs": [],
   "source": [
    "train_df.drop(train_df[train_df['price'].isnull()].index, inplace=True)\n",
    "train_df.drop(train_df[train_df['price'] < 10000].index, inplace=True)\n",
    "train_df = train_df.fillna({'n_rooms': 1})\n",
    "train_df['n_rooms'] = train_df['n_rooms'].astype('int64')\n",
    "train_df = train_df.fillna({'floor': 1})\n",
    "train_df['floor'] = train_df['floor'].astype('int64')\n",
    "train_df = train_df.fillna({'n_bathrooms': 1})\n",
    "train_df['n_bathrooms'] = train_df['n_bathrooms'].astype('int64')\n",
    "train_df = train_df.fillna({'year_of_construction': 0})\n",
    "train_df = train_df.fillna({'energy_class': 'other'})\n",
    "train_df['energy_class'] = train_df['energy_class'].astype('category')\n",
    "train_df.drop(train_df[train_df['latitude'].isnull()].index, inplace=True)\n",
    "train_df.drop(train_df[train_df['longitude'].isnull()].index, inplace=True)"
   ]
  },
  {
   "cell_type": "markdown",
   "id": "d722b024-bfe6-409f-a9bc-2f38baab058f",
   "metadata": {},
   "source": [
    "Ahora comprobamos la cantidad de valores *null* que quedan en el *dataframe* y el tamaño del mismo:"
   ]
  },
  {
   "cell_type": "code",
   "execution_count": 7,
   "id": "eecdcfb1-2914-4149-bae7-4c211947273b",
   "metadata": {},
   "outputs": [
    {
     "data": {
      "text/plain": [
       "timestamp                  0\n",
       "location                   0\n",
       "title                      0\n",
       "price                      0\n",
       "n_rooms                    0\n",
       "floor                      0\n",
       "mq                      2528\n",
       "n_bathrooms                0\n",
       "year_of_construction       0\n",
       "availability               0\n",
       "energy_class               0\n",
       "status                     0\n",
       "heating                    0\n",
       "has_garage                 0\n",
       "has_terrace                0\n",
       "has_garden                 0\n",
       "has_balcony                0\n",
       "has_fireplace              0\n",
       "has_alarm                  0\n",
       "has_air_conditioning       0\n",
       "has_pool                   0\n",
       "has_parking                0\n",
       "has_elevator               0\n",
       "is_furnished               0\n",
       "latitude                   0\n",
       "longitude                  0\n",
       "dtype: int64"
      ]
     },
     "execution_count": 7,
     "metadata": {},
     "output_type": "execute_result"
    }
   ],
   "source": [
    "train_df.isnull().sum()"
   ]
  },
  {
   "cell_type": "code",
   "execution_count": 8,
   "id": "e55bdd43-a75b-4f6b-97a9-69d5a3a8874e",
   "metadata": {},
   "outputs": [
    {
     "data": {
      "text/plain": [
       "175339"
      ]
     },
     "execution_count": 8,
     "metadata": {},
     "output_type": "execute_result"
    }
   ],
   "source": [
    "len(train_df.index)"
   ]
  },
  {
   "cell_type": "markdown",
   "id": "557972c6-2f5b-4634-b54b-27d0c21a2897",
   "metadata": {},
   "source": [
    "Lo anterior implica que en la limpieza perdimos alrededor del 18% de los datos de entrenamiento, sin embargo, aún contamos con un buen volumen de datos.\n",
    "\n",
    "Ahora bien, quedan los *+2500* registros nulos en *mq*. Como se mencionó anteriormente, las dimensiones de una vivienda afectan directamente al precio. *Gallent et. al. (2010)* mencionan la existencia de una regulación hacia las dimensiones de viviendas en Italia. Existen regulaciones publicadas por el gobierno italiano desde 1896, siendo en 1975 la más reciente modificación, y afortunadamente en esta última modificación se indica que \"...De forma general, el espacio de una vivienda para una persona debe ser, como mínimo, de 28 metros cuadrados, mientras que, para dos personas, deberá ser de 38 metros cuadrados (incluyendo baños)...\". \n",
    "\n",
    "Aunque podamos pensar que en la realidad las viviendas podrían no estar apegadas a esta regulación, consideraremos que, para fines prácticos, estos *+2500* registros sí cumplen la regulación y haremos una regla muy sencilla, la cual es:\n",
    "\n",
    "- Si *mq = null*, entonces *mq = 28 + 10(n_rooms-1)*\n",
    "\n",
    "Con lo anterior asumimos que hay una habitación por habitante y estimamos las dimensiones mínimas de la vivienda. Tal vez existan aquellas que excedan las regulaciones, pero también habrá otras que no las cumplan, así que probaremos de esta forma."
   ]
  },
  {
   "cell_type": "code",
   "execution_count": 9,
   "id": "88da326f-f410-463a-b1bf-9208de626e8b",
   "metadata": {},
   "outputs": [],
   "source": [
    "newDimension = 28 + 10 * (train_df['n_rooms'] -1)\n",
    "train_df['mq'] = train_df['mq'].fillna(value = newDimension)"
   ]
  },
  {
   "cell_type": "markdown",
   "id": "6a585d3c-f8df-4cd8-9ce8-d63bb857b64a",
   "metadata": {},
   "source": [
    "Respecto a la eliminación de columnas, podemos notar que *availability* y *status* contienen un solo valor, que son los siguientes:"
   ]
  },
  {
   "cell_type": "code",
   "execution_count": 10,
   "id": "8b8a1d72-2923-4b6f-8cb7-1cb73142802b",
   "metadata": {},
   "outputs": [
    {
     "data": {
      "text/plain": [
       "['not free / other']"
      ]
     },
     "execution_count": 10,
     "metadata": {},
     "output_type": "execute_result"
    }
   ],
   "source": [
    "train_df['availability'].unique().tolist()"
   ]
  },
  {
   "cell_type": "code",
   "execution_count": 11,
   "id": "d5edaef4-d2f4-464c-a500-769575681f1e",
   "metadata": {},
   "outputs": [
    {
     "data": {
      "text/plain": [
       "['other']"
      ]
     },
     "execution_count": 11,
     "metadata": {},
     "output_type": "execute_result"
    }
   ],
   "source": [
    "train_df['status'].unique().tolist()"
   ]
  },
  {
   "cell_type": "markdown",
   "id": "6d5cd2df-8408-4699-a845-45e8d4f6590a",
   "metadata": {},
   "source": [
    "Por lo cual son columnas que no nos aportan absolutamente nada de información, de forma que las eliminaremos:"
   ]
  },
  {
   "cell_type": "code",
   "execution_count": 12,
   "id": "b528ee9f-934f-4476-95ff-f9b4b7c8d3c6",
   "metadata": {},
   "outputs": [],
   "source": [
    "train_df = train_df.drop(['availability', 'status'], axis=1)"
   ]
  },
  {
   "cell_type": "markdown",
   "id": "c3234bc8-b923-4461-a730-d70d1c64a6f8",
   "metadata": {},
   "source": [
    "Y *timestamp* parece ser una variable interna del sistema que guardó el conjunto de datos, la cual no parece estar relacionada a la información del registro como tal. Por lo tanto también la borraremos:"
   ]
  },
  {
   "cell_type": "code",
   "execution_count": 13,
   "id": "414b53e0-d215-4e7c-b4eb-13a251677dfe",
   "metadata": {},
   "outputs": [],
   "source": [
    "del train_df['timestamp']"
   ]
  },
  {
   "cell_type": "markdown",
   "id": "b15b2626-19d6-4569-871e-d2f2f6f3e93e",
   "metadata": {},
   "source": [
    "Adicionalmente, tenemos las columnas de *latitude* y *longitude*. Esto podría utilizarse para hacer pequeños clusters: habría que definir un listado de vecindades con cierto radio e ir verificando a qué vecindad pertenece cada registro, pero es una tarea bastante costosa de realizar por muy poco beneficio. Por otra parte, podría hacerse una transformación del valor de coordenadas a un valor numérico: a mayor latitud, más al norte se encuentra la vivienda (con el ecuador como referencia) y a mayor longitud, más al este (con el meridiano de Greenwich como referencia), lo cual podría funcionar y es más sencillo de implementar:"
   ]
  },
  {
   "cell_type": "code",
   "execution_count": 14,
   "id": "4105b5cc-fda0-4d89-bb44-13ae1cea6aa2",
   "metadata": {},
   "outputs": [],
   "source": [
    "coord = train_df['latitude'].str.split(pat=\".\")\n",
    "coord = [\"\".join(x) for x in coord]\n",
    "coord = [int(x) for x in coord]\n",
    "train_df['latitude'] = coord\n",
    "\n",
    "coord = train_df['longitude'].str.split(pat=\".\")\n",
    "coord = [\"\".join(x) for x in coord]\n",
    "coord = [int(x) for x in coord]\n",
    "train_df['longitude'] = coord"
   ]
  },
  {
   "cell_type": "markdown",
   "id": "895625d0-c471-4742-b1f7-1393f892fa72",
   "metadata": {},
   "source": [
    "## Extracción de características"
   ]
  },
  {
   "cell_type": "markdown",
   "id": "3149d654-acdd-47c2-9389-7052b491b42e",
   "metadata": {},
   "source": [
    "Al rentar o comprar una casa, es bastante probable que, entre más vieja, menos valor tendrá en el mercado. Para este concepto retomaremos la columna *year_of_construction* y la transformaremos con una regla muy simple, la cual se basará en que dado a un año n, se dirá que la casa es vieja si *year_of_construction < n*, o de lo contrario se considerará como una casa nueva. Para esto tomemos *n = 1990*, entonces:\n",
    "\n",
    "-  Si *year_of_construction < 1990*, entonces reasignamos *year_of_construction = 0*, de lo contrario *year_of_construction = 1*"
   ]
  },
  {
   "cell_type": "code",
   "execution_count": 15,
   "id": "26a3a36b-4e14-487f-b718-f92fde821cf0",
   "metadata": {},
   "outputs": [
    {
     "data": {
      "text/plain": [
       "[0.0, 1.0]"
      ]
     },
     "execution_count": 15,
     "metadata": {},
     "output_type": "execute_result"
    }
   ],
   "source": [
    "train_df.loc[train_df['year_of_construction'] < 1990, 'year_of_construction'] = 0\n",
    "train_df.loc[train_df['year_of_construction'] > 0, 'year_of_construction'] = 1\n",
    "train_df = train_df.rename(columns={'year_of_construction':'is_modern'})\n",
    "\n",
    "train_df['is_modern'].unique().tolist()"
   ]
  },
  {
   "cell_type": "markdown",
   "id": "753b9298-54f7-4805-996c-c7e9cf14e070",
   "metadata": {},
   "source": [
    "Por otra parte, tenemos que la columna *heating* tiene los siguientes valores:"
   ]
  },
  {
   "cell_type": "code",
   "execution_count": 16,
   "id": "0d3493e9-5504-4144-9839-466124455356",
   "metadata": {},
   "outputs": [
    {
     "data": {
      "text/plain": [
       "['autonomous', 'other']"
      ]
     },
     "execution_count": 16,
     "metadata": {},
     "output_type": "execute_result"
    }
   ],
   "source": [
    "train_df['heating'].unique().tolist()"
   ]
  },
  {
   "cell_type": "markdown",
   "id": "5b3c1cad-403a-4036-a570-21f54827863a",
   "metadata": {},
   "source": [
    "A lo cual haremos la siguiente regla:\n",
    "\n",
    "- Si *heating = autonomous*, entonces *heating = 0*, de lo contrario, *heating = 1*\n",
    "\n",
    "De esta forma, *heating = 1* cuando la vivienda cuenta con calefacción:"
   ]
  },
  {
   "cell_type": "code",
   "execution_count": 17,
   "id": "7580d504-57ab-4002-b2e1-e4be281ac646",
   "metadata": {},
   "outputs": [],
   "source": [
    "train_df.loc[train_df['heating'] == 'autonomous', 'heating'] = 0\n",
    "train_df.loc[train_df['heating'] == 'other', 'heating'] = 1"
   ]
  },
  {
   "cell_type": "markdown",
   "id": "db2b455d-5934-4947-80f2-265701c1ee5b",
   "metadata": {},
   "source": [
    "Adicionalmente, tenemos un listado de atributos con los que puede cumplir (o no) la vivienda. El listado de atributos es:\n",
    "\n",
    "- is_modern\n",
    "- heating\n",
    "- has_garage\n",
    "- has_terrace\n",
    "- has_garden\n",
    "- has_balcony\n",
    "- has_fireplace\n",
    "- has_alarm\n",
    "- has_air_conditioning\n",
    "- has_pool\n",
    "- has_parking\n",
    "- has_elevator\n",
    "- is_furnished\n",
    "\n",
    "Podríamos decir de forma general que, entre más atributos tenga, más valiosa es la vivienda, por lo que crearemos un nuevo atributo, *score*, el cual será la suma de los atributos con los que cuenta la vivienda. De esta forma transformaremos 13 atributos categóricos en 1 numérico:"
   ]
  },
  {
   "cell_type": "code",
   "execution_count": 18,
   "id": "ae318590-c099-48a5-8a9f-5bf92c77d21a",
   "metadata": {},
   "outputs": [],
   "source": [
    "train_df['score'] = (train_df['is_modern'] + train_df['heating'] + train_df['has_garage'] + train_df['has_terrace'] + train_df['has_garden'] \n",
    "                     + train_df['has_balcony'] + train_df['has_fireplace'] + train_df['has_alarm'] + train_df['has_air_conditioning'] \n",
    "                     + train_df['has_pool'] + train_df['has_parking'] + train_df['has_elevator'] + train_df['is_furnished'])\n",
    "\n",
    "train_df['score'] = train_df['score'].astype('int64')\n",
    "\n",
    "train_df = train_df.drop(['is_modern', 'heating', 'has_garage', 'has_terrace', 'has_garden', 'has_balcony', 'has_fireplace', \n",
    "                          'has_alarm', 'has_air_conditioning', 'has_pool', 'has_parking', 'has_elevator', 'is_furnished'], axis=1)"
   ]
  },
  {
   "cell_type": "markdown",
   "id": "67438679-1887-40d6-8900-9a740d09327a",
   "metadata": {},
   "source": [
    "Para nuestra segunda característica usaremos la columna de *title*. Resulta que los títulos de cada registro inician con el tipo de vivienda, por lo que extraeremos la primer palabra para buscar agrupar las viviendas por este valor, el cual llamaremos *type*:"
   ]
  },
  {
   "cell_type": "code",
   "execution_count": 19,
   "id": "4bd99194-df65-4b5f-8c5b-c9bd1c33b2d9",
   "metadata": {},
   "outputs": [],
   "source": [
    "train_df['title'] = train_df['title'].str.split(' ').str[0]\n",
    "train_df['title'] = train_df['title'].str.replace(',', '')\n",
    "train_df = train_df.rename(columns={'title':'type'})\n",
    "\n",
    "types = train_df['type'].unique().tolist()"
   ]
  },
  {
   "cell_type": "markdown",
   "id": "e0c0ab87-cefb-4dd3-b73d-ee0a951be5b7",
   "metadata": {},
   "source": [
    "Y en base a la lista *types*, usaremos los índices como referencia para transformar los tipos de vivienda a valores numéricos:"
   ]
  },
  {
   "cell_type": "code",
   "execution_count": 20,
   "id": "2de245e0-467b-4603-a6bc-a40990af83bc",
   "metadata": {},
   "outputs": [],
   "source": [
    "train_df['type'] = [types.index(x) for x in train_df['type']]\n",
    "train_df['type'] = train_df['type'].astype('category')"
   ]
  },
  {
   "cell_type": "markdown",
   "id": "82c63d50-f95a-4fd1-b3bd-6260e1cbb882",
   "metadata": {},
   "source": [
    "Por último, repetiremos lo anterior para la columna *location* solo para simplificarla:"
   ]
  },
  {
   "cell_type": "code",
   "execution_count": 21,
   "id": "71c155a3-a183-4688-a4d4-26f9b1a6dde4",
   "metadata": {},
   "outputs": [],
   "source": [
    "cities = train_df['location'].unique().tolist()\n",
    "train_df['location'] = [cities.index(x) for x in train_df['location']]\n",
    "train_df['location'] = train_df['location'].astype('category')"
   ]
  },
  {
   "cell_type": "markdown",
   "id": "e96385bb-ad7a-4c75-acae-54ef4a1737c6",
   "metadata": {},
   "source": [
    "## Selección de características"
   ]
  },
  {
   "cell_type": "markdown",
   "id": "9d710200-cfb0-472e-b70c-5d7bfcd6910c",
   "metadata": {},
   "source": [
    "Si analizamos nuestro dataframe *train_df*, resulta que tenemos una combinación tanto de valores categóricos como de valores numéricos. Exceptuando *price*, que es el valor que queremos pronosticar, las columnas categóricas son:\n",
    "\n",
    "- *location*\n",
    "- *type*\n",
    "- *energy_class*\n",
    "\n",
    "De estas, tanto *location* como *type* están representadas con un valor numérico, pero eso no implica que tenga algún sentido matemático. Solo es un cambio de representación. Sin embargo, podemos aplicar cualquier método de selección numérico, exceptuando por la columna *energy_class*, así que vamos a eliminarla para aplicar directamente los métodos de *Correlación* y *Chi2*:"
   ]
  },
  {
   "cell_type": "code",
   "execution_count": 22,
   "id": "793eef0c-639b-4631-88b3-9a2cc9aab155",
   "metadata": {},
   "outputs": [],
   "source": [
    "del train_df['energy_class']\n",
    "train_df = train_df.iloc[:,[0, 1, 7, 8, 5, 4, 3, 6, 9, 2]]\n",
    "X_train = train_df.iloc[:, 0:-1]\n",
    "y_train = train_df.iloc[:, -1]"
   ]
  },
  {
   "cell_type": "code",
   "execution_count": 23,
   "id": "4a4d68ba-5772-420b-ac06-49fceb3920c4",
   "metadata": {},
   "outputs": [
    {
     "data": {
      "text/plain": [
       "<Axes: >"
      ]
     },
     "execution_count": 23,
     "metadata": {},
     "output_type": "execute_result"
    },
    {
     "data": {
      "image/png": "[encoded data removed]",
      "text/plain": [
       "<Figure size 640x480 with 2 Axes>"
      ]
     },
     "metadata": {},
     "output_type": "display_data"
    }
   ],
   "source": [
    "cor = train_df.corr()\n",
    "sns.heatmap(cor, annot = True)"
   ]
  },
  {
   "cell_type": "code",
   "execution_count": 24,
   "id": "9c5f3448-0ee5-4c5e-8cd6-ef954a7f27ad",
   "metadata": {},
   "outputs": [
    {
     "name": "stdout",
     "output_type": "stream",
     "text": [
      "The selected features are: ['location', 'type', 'latitude', 'longitude', 'mq', 'score']\n",
      "Execution time: 0.31 seconds\n"
     ]
    }
   ],
   "source": [
    "from sklearn.feature_selection import SelectKBest, chi2\n",
    "\n",
    "# start time\n",
    "start_time_forward = time.time()\n",
    "\n",
    "### Applying feature selection method\n",
    "chi2_selector = SelectKBest(score_func=chi2, k=6)  # change k\n",
    "chi2_selector.fit_transform(X_train, y_train)\n",
    "\n",
    "# end time\n",
    "end_time_forward = time.time()\n",
    "time_forward = end_time_forward - start_time_forward\n",
    "\n",
    "# show feature selection\n",
    "selected_features = chi2_selector.get_support()\n",
    "print('The selected features are:', list(X_train.columns[selected_features]))\n",
    "\n",
    "# show elapsed time of this method\n",
    "print(f\"Execution time: {time_forward:.2f} seconds\")"
   ]
  },
  {
   "cell_type": "markdown",
   "id": "bc448ad2-c6f4-4a23-ba0a-74c30d3c3f4f",
   "metadata": {},
   "source": [
    "De la *Correlación de Pearson* podemos ver que prácticamente ninguna variable está altamente correlacionada. Solo podemos notar una ligera dependencia entre las dimensiones de la vivienda y la cantidad de baños. Tal vez lo que pudimos esperar es que *floor*, *n_rooms* y *n_bathrooms* estuvieran relacionadas a *mq*, pero no parece ser así dentro de los registros del dataset de entrenamiento. Por otra parte, el método de *Chi2* sí nos dice que *mq* tiene más relevancia que *floor*, *n_rooms* y *n_bathrooms*, y de hecho el orden de importancia de las características es algo que hace sentido a la intuición, siendo principalmente *location* el que defina el precio de las viviendas, seguido por el tipo de vivienda, la ubicación y las dimensiones.\n",
    "\n",
    "Dicho esto, descartaremos *floor*, *n_rooms* y *n_bathrooms*, para quedarnos con 6 variables:"
   ]
  },
  {
   "cell_type": "code",
   "execution_count": 25,
   "id": "c78556cb-b412-4871-9fcc-ed08f43b7c1d",
   "metadata": {},
   "outputs": [],
   "source": [
    "X_train = X_train.drop(['floor', 'n_rooms', 'n_bathrooms'], axis=1)"
   ]
  },
  {
   "cell_type": "markdown",
   "id": "3f9e48af-4425-4cd0-b4f3-5fad9a0ee364",
   "metadata": {},
   "source": [
    "## Reducción de dimensionalidad"
   ]
  },
  {
   "cell_type": "markdown",
   "id": "6a8dbdf4-20c4-46df-aa01-28d2fe12e4df",
   "metadata": {},
   "source": [
    "Para la reducción de dimensionalidad usaremos *LDA*, ya que es un método supervisado y no contamos con mucho recurso computacional:"
   ]
  },
  {
   "cell_type": "code",
   "execution_count": 26,
   "id": "d9262846-7009-4832-9976-0f2c70d561d4",
   "metadata": {},
   "outputs": [
    {
     "data": {
      "image/png": "[encoded data removed]",
      "text/plain": [
       "<Figure size 640x480 with 1 Axes>"
      ]
     },
     "metadata": {},
     "output_type": "display_data"
    }
   ],
   "source": [
    "from sklearn.discriminant_analysis import LinearDiscriminantAnalysis as LDA\n",
    "X_LDA = LDA(n_components = 2).fit_transform(X_train, y_train)\n",
    "\n",
    "scatter = plt.scatter(X_LDA[:, 0], X_LDA[:, 1], c = y_train)\n",
    "plt.title('LDA plot in 2D')\n",
    "plt.xlabel('Component 1')\n",
    "plt.ylabel('Component 2')\n",
    "plt.legend(*scatter.legend_elements())\n",
    "plt.show()"
   ]
  },
  {
   "cell_type": "markdown",
   "id": "6a5b90c0-78fb-436a-b230-dbf78a136c66",
   "metadata": {},
   "source": [
    "De lo que se puede apreciar de esta transformación podemos anticiparnos a que un modelo de regresión lineal no nos va a servir mucho para pronosticar los precios, ya que al parecer *LDA* no está separando bien los datos de entrenamiento. Habría que intentar con alternativas de modelos multivariables para ver si dan un mejor rendimiento que lo que se pronostica para el modelo de regresión lineal"
   ]
  },
  {
   "cell_type": "markdown",
   "id": "d14bf41f-828f-4359-a4ec-1c6df5f277b3",
   "metadata": {},
   "source": [
    "## Modelos de regresión"
   ]
  },
  {
   "cell_type": "code",
   "execution_count": 27,
   "id": "500de6aa-df1c-4e8c-b995-13b8e7ab8d45",
   "metadata": {},
   "outputs": [],
   "source": [
    "from sklearn.model_selection import train_test_split\n",
    "from sklearn.metrics import mean_squared_error, r2_score\n",
    "from sklearn.linear_model import LinearRegression, Ridge\n",
    "from sklearn.ensemble import RandomForestRegressor"
   ]
  },
  {
   "cell_type": "code",
   "execution_count": 28,
   "id": "c6fb60a6-fde4-4932-8941-c01eaa001cab",
   "metadata": {},
   "outputs": [
    {
     "name": "stderr",
     "output_type": "stream",
     "text": [
      "C:\\Users\\Black\\AppData\\Local\\Programs\\Python\\Python312\\Lib\\site-packages\\sklearn\\linear_model\\_ridge.py:216: LinAlgWarning: Ill-conditioned matrix (rcond=2.46433e-31): result may not be accurate.\n",
      "  return linalg.solve(A, Xy, assume_a=\"pos\", overwrite_a=True).T\n"
     ]
    },
    {
     "data": {
      "text/html": [
       "<style>#sk-container-id-1 {\n",
       "  /* Definition of color scheme common for light and dark mode */\n",
       "  --sklearn-color-text: black;\n",
       "  --sklearn-color-line: gray;\n",
       "  /* Definition of color scheme for unfitted estimators */\n",
       "  --sklearn-color-unfitted-level-0: #fff5e6;\n",
       "  --sklearn-color-unfitted-level-1: #f6e4d2;\n",
       "  --sklearn-color-unfitted-level-2: #ffe0b3;\n",
       "  --sklearn-color-unfitted-level-3: chocolate;\n",
       "  /* Definition of color scheme for fitted estimators */\n",
       "  --sklearn-color-fitted-level-0: #f0f8ff;\n",
       "  --sklearn-color-fitted-level-1: #d4ebff;\n",
       "  --sklearn-color-fitted-level-2: #b3dbfd;\n",
       "  --sklearn-color-fitted-level-3: cornflowerblue;\n",
       "\n",
       "  /* Specific color for light theme */\n",
       "  --sklearn-color-text-on-default-background: var(--sg-text-color, var(--theme-code-foreground, var(--jp-content-font-color1, black)));\n",
       "  --sklearn-color-background: var(--sg-background-color, var(--theme-background, var(--jp-layout-color0, white)));\n",
       "  --sklearn-color-border-box: var(--sg-text-color, var(--theme-code-foreground, var(--jp-content-font-color1, black)));\n",
       "  --sklearn-color-icon: #696969;\n",
       "\n",
       "  @media (prefers-color-scheme: dark) {\n",
       "    /* Redefinition of color scheme for dark theme */\n",
       "    --sklearn-color-text-on-default-background: var(--sg-text-color, var(--theme-code-foreground, var(--jp-content-font-color1, white)));\n",
       "    --sklearn-color-background: var(--sg-background-color, var(--theme-background, var(--jp-layout-color0, #111)));\n",
       "    --sklearn-color-border-box: var(--sg-text-color, var(--theme-code-foreground, var(--jp-content-font-color1, white)));\n",
       "    --sklearn-color-icon: #878787;\n",
       "  }\n",
       "}\n",
       "\n",
       "#sk-container-id-1 {\n",
       "  color: var(--sklearn-color-text);\n",
       "}\n",
       "\n",
       "#sk-container-id-1 pre {\n",
       "  padding: 0;\n",
       "}\n",
       "\n",
       "#sk-container-id-1 input.sk-hidden--visually {\n",
       "  border: 0;\n",
       "  clip: rect(1px 1px 1px 1px);\n",
       "  clip: rect(1px, 1px, 1px, 1px);\n",
       "  height: 1px;\n",
       "  margin: -1px;\n",
       "  overflow: hidden;\n",
       "  padding: 0;\n",
       "  position: absolute;\n",
       "  width: 1px;\n",
       "}\n",
       "\n",
       "#sk-container-id-1 div.sk-dashed-wrapped {\n",
       "  border: 1px dashed var(--sklearn-color-line);\n",
       "  margin: 0 0.4em 0.5em 0.4em;\n",
       "  box-sizing: border-box;\n",
       "  padding-bottom: 0.4em;\n",
       "  background-color: var(--sklearn-color-background);\n",
       "}\n",
       "\n",
       "#sk-container-id-1 div.sk-container {\n",
       "  /* jupyter's `normalize.less` sets `[hidden] { display: none; }`\n",
       "     but bootstrap.min.css set `[hidden] { display: none !important; }`\n",
       "     so we also need the `!important` here to be able to override the\n",
       "     default hidden behavior on the sphinx rendered scikit-learn.org.\n",
       "     See: https://github.com/scikit-learn/scikit-learn/issues/21755 */\n",
       "  display: inline-block !important;\n",
       "  position: relative;\n",
       "}\n",
       "\n",
       "#sk-container-id-1 div.sk-text-repr-fallback {\n",
       "  display: none;\n",
       "}\n",
       "\n",
       "div.sk-parallel-item,\n",
       "div.sk-serial,\n",
       "div.sk-item {\n",
       "  /* draw centered vertical line to link estimators */\n",
       "  background-image: linear-gradient(var(--sklearn-color-text-on-default-background), var(--sklearn-color-text-on-default-background));\n",
       "  background-size: 2px 100%;\n",
       "  background-repeat: no-repeat;\n",
       "  background-position: center center;\n",
       "}\n",
       "\n",
       "/* Parallel-specific style estimator block */\n",
       "\n",
       "#sk-container-id-1 div.sk-parallel-item::after {\n",
       "  content: \"\";\n",
       "  width: 100%;\n",
       "  border-bottom: 2px solid var(--sklearn-color-text-on-default-background);\n",
       "  flex-grow: 1;\n",
       "}\n",
       "\n",
       "#sk-container-id-1 div.sk-parallel {\n",
       "  display: flex;\n",
       "  align-items: stretch;\n",
       "  justify-content: center;\n",
       "  background-color: var(--sklearn-color-background);\n",
       "  position: relative;\n",
       "}\n",
       "\n",
       "#sk-container-id-1 div.sk-parallel-item {\n",
       "  display: flex;\n",
       "  flex-direction: column;\n",
       "}\n",
       "\n",
       "#sk-container-id-1 div.sk-parallel-item:first-child::after {\n",
       "  align-self: flex-end;\n",
       "  width: 50%;\n",
       "}\n",
       "\n",
       "#sk-container-id-1 div.sk-parallel-item:last-child::after {\n",
       "  align-self: flex-start;\n",
       "  width: 50%;\n",
       "}\n",
       "\n",
       "#sk-container-id-1 div.sk-parallel-item:only-child::after {\n",
       "  width: 0;\n",
       "}\n",
       "\n",
       "/* Serial-specific style estimator block */\n",
       "\n",
       "#sk-container-id-1 div.sk-serial {\n",
       "  display: flex;\n",
       "  flex-direction: column;\n",
       "  align-items: center;\n",
       "  background-color: var(--sklearn-color-background);\n",
       "  padding-right: 1em;\n",
       "  padding-left: 1em;\n",
       "}\n",
       "\n",
       "\n",
       "/* Toggleable style: style used for estimator/Pipeline/ColumnTransformer box that is\n",
       "clickable and can be expanded/collapsed.\n",
       "- Pipeline and ColumnTransformer use this feature and define the default style\n",
       "- Estimators will overwrite some part of the style using the `sk-estimator` class\n",
       "*/\n",
       "\n",
       "/* Pipeline and ColumnTransformer style (default) */\n",
       "\n",
       "#sk-container-id-1 div.sk-toggleable {\n",
       "  /* Default theme specific background. It is overwritten whether we have a\n",
       "  specific estimator or a Pipeline/ColumnTransformer */\n",
       "  background-color: var(--sklearn-color-background);\n",
       "}\n",
       "\n",
       "/* Toggleable label */\n",
       "#sk-container-id-1 label.sk-toggleable__label {\n",
       "  cursor: pointer;\n",
       "  display: block;\n",
       "  width: 100%;\n",
       "  margin-bottom: 0;\n",
       "  padding: 0.5em;\n",
       "  box-sizing: border-box;\n",
       "  text-align: center;\n",
       "}\n",
       "\n",
       "#sk-container-id-1 label.sk-toggleable__label-arrow:before {\n",
       "  /* Arrow on the left of the label */\n",
       "  content: \"▸\";\n",
       "  float: left;\n",
       "  margin-right: 0.25em;\n",
       "  color: var(--sklearn-color-icon);\n",
       "}\n",
       "\n",
       "#sk-container-id-1 label.sk-toggleable__label-arrow:hover:before {\n",
       "  color: var(--sklearn-color-text);\n",
       "}\n",
       "\n",
       "/* Toggleable content - dropdown */\n",
       "\n",
       "#sk-container-id-1 div.sk-toggleable__content {\n",
       "  max-height: 0;\n",
       "  max-width: 0;\n",
       "  overflow: hidden;\n",
       "  text-align: left;\n",
       "  /* unfitted */\n",
       "  background-color: var(--sklearn-color-unfitted-level-0);\n",
       "}\n",
       "\n",
       "#sk-container-id-1 div.sk-toggleable__content.fitted {\n",
       "  /* fitted */\n",
       "  background-color: var(--sklearn-color-fitted-level-0);\n",
       "}\n",
       "\n",
       "#sk-container-id-1 div.sk-toggleable__content pre {\n",
       "  margin: 0.2em;\n",
       "  border-radius: 0.25em;\n",
       "  color: var(--sklearn-color-text);\n",
       "  /* unfitted */\n",
       "  background-color: var(--sklearn-color-unfitted-level-0);\n",
       "}\n",
       "\n",
       "#sk-container-id-1 div.sk-toggleable__content.fitted pre {\n",
       "  /* unfitted */\n",
       "  background-color: var(--sklearn-color-fitted-level-0);\n",
       "}\n",
       "\n",
       "#sk-container-id-1 input.sk-toggleable__control:checked~div.sk-toggleable__content {\n",
       "  /* Expand drop-down */\n",
       "  max-height: 200px;\n",
       "  max-width: 100%;\n",
       "  overflow: auto;\n",
       "}\n",
       "\n",
       "#sk-container-id-1 input.sk-toggleable__control:checked~label.sk-toggleable__label-arrow:before {\n",
       "  content: \"▾\";\n",
       "}\n",
       "\n",
       "/* Pipeline/ColumnTransformer-specific style */\n",
       "\n",
       "#sk-container-id-1 div.sk-label input.sk-toggleable__control:checked~label.sk-toggleable__label {\n",
       "  color: var(--sklearn-color-text);\n",
       "  background-color: var(--sklearn-color-unfitted-level-2);\n",
       "}\n",
       "\n",
       "#sk-container-id-1 div.sk-label.fitted input.sk-toggleable__control:checked~label.sk-toggleable__label {\n",
       "  background-color: var(--sklearn-color-fitted-level-2);\n",
       "}\n",
       "\n",
       "/* Estimator-specific style */\n",
       "\n",
       "/* Colorize estimator box */\n",
       "#sk-container-id-1 div.sk-estimator input.sk-toggleable__control:checked~label.sk-toggleable__label {\n",
       "  /* unfitted */\n",
       "  background-color: var(--sklearn-color-unfitted-level-2);\n",
       "}\n",
       "\n",
       "#sk-container-id-1 div.sk-estimator.fitted input.sk-toggleable__control:checked~label.sk-toggleable__label {\n",
       "  /* fitted */\n",
       "  background-color: var(--sklearn-color-fitted-level-2);\n",
       "}\n",
       "\n",
       "#sk-container-id-1 div.sk-label label.sk-toggleable__label,\n",
       "#sk-container-id-1 div.sk-label label {\n",
       "  /* The background is the default theme color */\n",
       "  color: var(--sklearn-color-text-on-default-background);\n",
       "}\n",
       "\n",
       "/* On hover, darken the color of the background */\n",
       "#sk-container-id-1 div.sk-label:hover label.sk-toggleable__label {\n",
       "  color: var(--sklearn-color-text);\n",
       "  background-color: var(--sklearn-color-unfitted-level-2);\n",
       "}\n",
       "\n",
       "/* Label box, darken color on hover, fitted */\n",
       "#sk-container-id-1 div.sk-label.fitted:hover label.sk-toggleable__label.fitted {\n",
       "  color: var(--sklearn-color-text);\n",
       "  background-color: var(--sklearn-color-fitted-level-2);\n",
       "}\n",
       "\n",
       "/* Estimator label */\n",
       "\n",
       "#sk-container-id-1 div.sk-label label {\n",
       "  font-family: monospace;\n",
       "  font-weight: bold;\n",
       "  display: inline-block;\n",
       "  line-height: 1.2em;\n",
       "}\n",
       "\n",
       "#sk-container-id-1 div.sk-label-container {\n",
       "  text-align: center;\n",
       "}\n",
       "\n",
       "/* Estimator-specific */\n",
       "#sk-container-id-1 div.sk-estimator {\n",
       "  font-family: monospace;\n",
       "  border: 1px dotted var(--sklearn-color-border-box);\n",
       "  border-radius: 0.25em;\n",
       "  box-sizing: border-box;\n",
       "  margin-bottom: 0.5em;\n",
       "  /* unfitted */\n",
       "  background-color: var(--sklearn-color-unfitted-level-0);\n",
       "}\n",
       "\n",
       "#sk-container-id-1 div.sk-estimator.fitted {\n",
       "  /* fitted */\n",
       "  background-color: var(--sklearn-color-fitted-level-0);\n",
       "}\n",
       "\n",
       "/* on hover */\n",
       "#sk-container-id-1 div.sk-estimator:hover {\n",
       "  /* unfitted */\n",
       "  background-color: var(--sklearn-color-unfitted-level-2);\n",
       "}\n",
       "\n",
       "#sk-container-id-1 div.sk-estimator.fitted:hover {\n",
       "  /* fitted */\n",
       "  background-color: var(--sklearn-color-fitted-level-2);\n",
       "}\n",
       "\n",
       "/* Specification for estimator info (e.g. \"i\" and \"?\") */\n",
       "\n",
       "/* Common style for \"i\" and \"?\" */\n",
       "\n",
       ".sk-estimator-doc-link,\n",
       "a:link.sk-estimator-doc-link,\n",
       "a:visited.sk-estimator-doc-link {\n",
       "  float: right;\n",
       "  font-size: smaller;\n",
       "  line-height: 1em;\n",
       "  font-family: monospace;\n",
       "  background-color: var(--sklearn-color-background);\n",
       "  border-radius: 1em;\n",
       "  height: 1em;\n",
       "  width: 1em;\n",
       "  text-decoration: none !important;\n",
       "  margin-left: 1ex;\n",
       "  /* unfitted */\n",
       "  border: var(--sklearn-color-unfitted-level-1) 1pt solid;\n",
       "  color: var(--sklearn-color-unfitted-level-1);\n",
       "}\n",
       "\n",
       ".sk-estimator-doc-link.fitted,\n",
       "a:link.sk-estimator-doc-link.fitted,\n",
       "a:visited.sk-estimator-doc-link.fitted {\n",
       "  /* fitted */\n",
       "  border: var(--sklearn-color-fitted-level-1) 1pt solid;\n",
       "  color: var(--sklearn-color-fitted-level-1);\n",
       "}\n",
       "\n",
       "/* On hover */\n",
       "div.sk-estimator:hover .sk-estimator-doc-link:hover,\n",
       ".sk-estimator-doc-link:hover,\n",
       "div.sk-label-container:hover .sk-estimator-doc-link:hover,\n",
       ".sk-estimator-doc-link:hover {\n",
       "  /* unfitted */\n",
       "  background-color: var(--sklearn-color-unfitted-level-3);\n",
       "  color: var(--sklearn-color-background);\n",
       "  text-decoration: none;\n",
       "}\n",
       "\n",
       "div.sk-estimator.fitted:hover .sk-estimator-doc-link.fitted:hover,\n",
       ".sk-estimator-doc-link.fitted:hover,\n",
       "div.sk-label-container:hover .sk-estimator-doc-link.fitted:hover,\n",
       ".sk-estimator-doc-link.fitted:hover {\n",
       "  /* fitted */\n",
       "  background-color: var(--sklearn-color-fitted-level-3);\n",
       "  color: var(--sklearn-color-background);\n",
       "  text-decoration: none;\n",
       "}\n",
       "\n",
       "/* Span, style for the box shown on hovering the info icon */\n",
       ".sk-estimator-doc-link span {\n",
       "  display: none;\n",
       "  z-index: 9999;\n",
       "  position: relative;\n",
       "  font-weight: normal;\n",
       "  right: .2ex;\n",
       "  padding: .5ex;\n",
       "  margin: .5ex;\n",
       "  width: min-content;\n",
       "  min-width: 20ex;\n",
       "  max-width: 50ex;\n",
       "  color: var(--sklearn-color-text);\n",
       "  box-shadow: 2pt 2pt 4pt #999;\n",
       "  /* unfitted */\n",
       "  background: var(--sklearn-color-unfitted-level-0);\n",
       "  border: .5pt solid var(--sklearn-color-unfitted-level-3);\n",
       "}\n",
       "\n",
       ".sk-estimator-doc-link.fitted span {\n",
       "  /* fitted */\n",
       "  background: var(--sklearn-color-fitted-level-0);\n",
       "  border: var(--sklearn-color-fitted-level-3);\n",
       "}\n",
       "\n",
       ".sk-estimator-doc-link:hover span {\n",
       "  display: block;\n",
       "}\n",
       "\n",
       "/* \"?\"-specific style due to the `<a>` HTML tag */\n",
       "\n",
       "#sk-container-id-1 a.estimator_doc_link {\n",
       "  float: right;\n",
       "  font-size: 1rem;\n",
       "  line-height: 1em;\n",
       "  font-family: monospace;\n",
       "  background-color: var(--sklearn-color-background);\n",
       "  border-radius: 1rem;\n",
       "  height: 1rem;\n",
       "  width: 1rem;\n",
       "  text-decoration: none;\n",
       "  /* unfitted */\n",
       "  color: var(--sklearn-color-unfitted-level-1);\n",
       "  border: var(--sklearn-color-unfitted-level-1) 1pt solid;\n",
       "}\n",
       "\n",
       "#sk-container-id-1 a.estimator_doc_link.fitted {\n",
       "  /* fitted */\n",
       "  border: var(--sklearn-color-fitted-level-1) 1pt solid;\n",
       "  color: var(--sklearn-color-fitted-level-1);\n",
       "}\n",
       "\n",
       "/* On hover */\n",
       "#sk-container-id-1 a.estimator_doc_link:hover {\n",
       "  /* unfitted */\n",
       "  background-color: var(--sklearn-color-unfitted-level-3);\n",
       "  color: var(--sklearn-color-background);\n",
       "  text-decoration: none;\n",
       "}\n",
       "\n",
       "#sk-container-id-1 a.estimator_doc_link.fitted:hover {\n",
       "  /* fitted */\n",
       "  background-color: var(--sklearn-color-fitted-level-3);\n",
       "}\n",
       "</style><div id=\"sk-container-id-1\" class=\"sk-top-container\"><div class=\"sk-text-repr-fallback\"><pre>RandomForestRegressor(random_state=42)</pre><b>In a Jupyter environment, please rerun this cell to show the HTML representation or trust the notebook. <br />On GitHub, the HTML representation is unable to render, please try loading this page with nbviewer.org.</b></div><div class=\"sk-container\" hidden><div class=\"sk-item\"><div class=\"sk-estimator fitted sk-toggleable\"><input class=\"sk-toggleable__control sk-hidden--visually\" id=\"sk-estimator-id-1\" type=\"checkbox\" checked><label for=\"sk-estimator-id-1\" class=\"sk-toggleable__label fitted sk-toggleable__label-arrow fitted\">&nbsp;&nbsp;RandomForestRegressor<a class=\"sk-estimator-doc-link fitted\" rel=\"noreferrer\" target=\"_blank\" href=\"https://scikit-learn.org/1.5/modules/generated/sklearn.ensemble.RandomForestRegressor.html\">?<span>Documentation for RandomForestRegressor</span></a><span class=\"sk-estimator-doc-link fitted\">i<span>Fitted</span></span></label><div class=\"sk-toggleable__content fitted\"><pre>RandomForestRegressor(random_state=42)</pre></div> </div></div></div></div>"
      ],
      "text/plain": [
       "RandomForestRegressor(random_state=42)"
      ]
     },
     "execution_count": 28,
     "metadata": {},
     "output_type": "execute_result"
    }
   ],
   "source": [
    "train_LDA = pd.concat([pd.Series(X_LDA[:,0], name='X_LDA'), pd.Series(X_LDA[:,1], name='y_LDA')], axis=1)\n",
    "\n",
    "#Regresión Lineal\n",
    "linear_reg = LinearRegression()\n",
    "linear_reg.fit(train_LDA[['X_LDA']], train_LDA['y_LDA'])\n",
    "\n",
    "#Regresión Multivariable\n",
    "Multi_reg = LinearRegression()\n",
    "Multi_reg.fit(X_train, y_train)\n",
    "\n",
    "#Regresión Ridge\n",
    "ridge_reg = Ridge(alpha=1.0)\n",
    "ridge_reg.fit(X_train, y_train)\n",
    "\n",
    "#Regresión Random Forest\n",
    "rf_reg = RandomForestRegressor(n_estimators=100, random_state=42)\n",
    "rf_reg.fit(X_train, y_train)\n",
    "\n",
    "#y_pred_LDA = linear_reg.predict(X_test_LDA)\n",
    "#print(f'R^2: {r2_score(y_test_LDA, y_pred_LDA)}')"
   ]
  },
  {
   "cell_type": "markdown",
   "id": "abb479ae-4189-474f-9baf-b96f5d9c129c",
   "metadata": {},
   "source": [
    "## Evaluación con datos locales"
   ]
  },
  {
   "cell_type": "code",
   "execution_count": 29,
   "id": "13338ad2-90f7-4bdd-ba25-c355f5845746",
   "metadata": {},
   "outputs": [],
   "source": [
    "y_train_pred = pd.concat([pd.Series(linear_reg.predict(train_LDA[['X_LDA']]), name = 'lineal'), \n",
    "                    pd.Series(Multi_reg.predict(X_train), name = 'multivariable'), \n",
    "                    pd.Series(ridge_reg.predict(X_train), name = 'ridge'), \n",
    "                    pd.Series(rf_reg.predict(X_train), name = 'randomForest')], axis = 1)"
   ]
  },
  {
   "cell_type": "code",
   "execution_count": 30,
   "id": "29f5b5e0-2f54-4266-b174-80d61a04cc5e",
   "metadata": {},
   "outputs": [],
   "source": [
    "train_score = [\n",
    "    r2_score(train_LDA['y_LDA'], y_train_pred['lineal']),\n",
    "    r2_score(y_train, y_train_pred['multivariable']),\n",
    "    r2_score(y_train, y_train_pred['ridge']),\n",
    "    r2_score(y_train, y_train_pred['randomForest'])\n",
    "]"
   ]
  },
  {
   "cell_type": "code",
   "execution_count": 31,
   "id": "2cf4b8f3-110e-4757-9467-882ab0fff86e",
   "metadata": {},
   "outputs": [
    {
     "data": {
      "image/png": "[encoded data removed]",
      "text/plain": [
       "<Figure size 1000x600 with 1 Axes>"
      ]
     },
     "metadata": {},
     "output_type": "display_data"
    }
   ],
   "source": [
    "fig, ax = plt.subplots(figsize=(10, 6))\n",
    "index = np.arange(len(['Lineal', 'Multivariable', 'Ridge', 'randomForest']))\n",
    "bar_width = 0.35\n",
    "\n",
    "bar = ax.bar(index, train_score, bar_width, label='Train R^2')\n",
    "\n",
    "ax.set_xlabel('Model')\n",
    "ax.set_ylabel('R^2 Score')\n",
    "ax.set_title('Model performance comparison')\n",
    "ax.set_xticks(index + bar_width / 2)\n",
    "ax.set_xticklabels(['Lineal', 'Multivariable', 'Ridge', 'randomForest'])\n",
    "ax.legend()\n",
    "\n",
    "plt.tight_layout()\n",
    "plt.show()"
   ]
  },
  {
   "cell_type": "markdown",
   "id": "96d67db8-88c2-42c5-ad27-7e4864f1f2a6",
   "metadata": {},
   "source": [
    "## Evaluación con datos de prueba"
   ]
  },
  {
   "cell_type": "code",
   "execution_count": 32,
   "id": "9a78cbe4-3bbd-4bc1-aad4-a5b52e10805e",
   "metadata": {},
   "outputs": [
    {
     "data": {
      "text/plain": [
       "['timestamp',\n",
       " 'location',\n",
       " 'title',\n",
       " 'price',\n",
       " 'n_rooms',\n",
       " 'floor',\n",
       " 'mq',\n",
       " 'n_bathrooms',\n",
       " 'year_of_construction',\n",
       " 'availability',\n",
       " 'energy_class',\n",
       " 'status',\n",
       " 'heating',\n",
       " 'has_garage',\n",
       " 'has_terrace',\n",
       " 'has_garden',\n",
       " 'has_balcony',\n",
       " 'has_fireplace',\n",
       " 'has_alarm',\n",
       " 'has_air_conditioning',\n",
       " 'has_pool',\n",
       " 'has_parking',\n",
       " 'has_elevator',\n",
       " 'is_furnished',\n",
       " 'latitude',\n",
       " 'longitude']"
      ]
     },
     "execution_count": 32,
     "metadata": {},
     "output_type": "execute_result"
    }
   ],
   "source": [
    "test_df = pd.read_csv(f'test_housing_data_italy.csv', na_values=r'\\N')\n",
    "\n",
    "list(test_df.columns.values)"
   ]
  },
  {
   "cell_type": "code",
   "execution_count": 33,
   "id": "bb1e3128-947e-49ff-9ba1-8f89477ddecc",
   "metadata": {},
   "outputs": [],
   "source": [
    "test_df = pd.read_csv(f'test_housing_data_italy.csv', na_values=r'\\N')\n",
    "\n",
    "test_df['location'] = [cities.index(x) if x in cities else -1 for x in test_df['location']]\n",
    "test_df['location'] = test_df['location'].astype('category')\n",
    "\n",
    "test_df['title'] = test_df['title'].str.split(' ').str[0]\n",
    "test_df['title'] = test_df['title'].str.replace(',', '')\n",
    "test_df = test_df.rename(columns={'title':'type'})\n",
    "test_df['type'] = [types.index(x) if x in types else -1 for x in test_df['type']]\n",
    "test_df['type'] = test_df['type'].astype('category')\n",
    "\n",
    "test_df = test_df.fillna({'price': 0})\n",
    "\n",
    "test_df = test_df.fillna({'n_rooms': 1})\n",
    "test_df['n_rooms'] = test_df['n_rooms'].astype('int64')\n",
    "\n",
    "newDimension = 28 + 10 * (test_df['n_rooms'] -1)\n",
    "test_df['mq'] = test_df['mq'].fillna(value = newDimension)\n",
    "\n",
    "test_df = test_df.fillna({'year_of_construction': 0})\n",
    "test_df.loc[test_df['year_of_construction'] < 1990, 'year_of_construction'] = 0\n",
    "test_df.loc[test_df['year_of_construction'] > 0, 'year_of_construction'] = 1\n",
    "test_df = test_df.rename(columns={'year_of_construction':'is_modern'})\n",
    "\n",
    "test_df.loc[test_df['heating'] == 'autonomous', 'heating'] = 0\n",
    "test_df.loc[test_df['heating'] == 'other', 'heating'] = 1\n",
    "\n",
    "test_df = test_df.fillna({'latitude': '0.0.0'})\n",
    "coord = test_df['latitude'].str.split(pat=\".\")\n",
    "coord = [\"\".join(x) for x in coord]\n",
    "coord = [int(x) for x in coord]\n",
    "test_df['latitude'] = coord\n",
    "\n",
    "test_df = test_df.fillna({'longitude': '0.0.0'})\n",
    "coord = test_df['longitude'].str.split(pat=\".\")\n",
    "coord = [\"\".join(x) for x in coord]\n",
    "coord = [int(x) for x in coord]\n",
    "test_df['longitude'] = coord\n",
    "\n",
    "test_df['score'] = (test_df['is_modern'] + test_df['heating'] + test_df['has_garage'] + test_df['has_terrace'] + test_df['has_garden'] \n",
    "                     + test_df['has_balcony'] + test_df['has_fireplace'] + test_df['has_alarm'] + test_df['has_air_conditioning'] \n",
    "                     + test_df['has_pool'] + test_df['has_parking'] + test_df['has_elevator'] + test_df['is_furnished'])\n",
    "\n",
    "test_df['score'] = test_df['score'].astype('int64')\n",
    "\n",
    "test_df = test_df.drop(['timestamp', 'n_rooms', 'floor', 'n_bathrooms', 'is_modern', 'availability', 'energy_class', 'status', \n",
    "                        'heating', 'has_garage', 'has_terrace', 'has_garden', 'has_balcony', 'has_fireplace', 'has_alarm', \n",
    "                        'has_air_conditioning', 'has_pool', 'has_parking', 'has_elevator', 'is_furnished'], axis=1)"
   ]
  },
  {
   "cell_type": "code",
   "execution_count": 34,
   "id": "9af67166-28ff-4c58-905a-1195f46a8dae",
   "metadata": {},
   "outputs": [],
   "source": [
    "test_df = test_df.iloc[:,[0, 1, 4, 5, 3, 6, 2]]"
   ]
  },
  {
   "cell_type": "code",
   "execution_count": 35,
   "id": "8914a8e5-7276-4db1-af4d-54b95cd6fb2c",
   "metadata": {},
   "outputs": [],
   "source": [
    "X_test = test_df.iloc[:, 0:-1]\n",
    "y_test = test_df.iloc[:, -1]\n",
    "test_X_LDA = LDA(n_components = 2).fit_transform(X_test, y_test)\n",
    "\n",
    "test_LDA = pd.concat([pd.Series(test_X_LDA[:,0], name='X_LDA'), pd.Series(test_X_LDA[:,1], name='y_LDA')], axis=1)\n"
   ]
  },
  {
   "cell_type": "code",
   "execution_count": 36,
   "id": "17157fe0-080e-4cef-a249-8f3571050ba6",
   "metadata": {},
   "outputs": [],
   "source": [
    "y_test_pred = pd.concat([pd.Series(linear_reg.predict(test_LDA[['X_LDA']]), name = 'lineal'), \n",
    "                    pd.Series(Multi_reg.predict(X_test), name = 'multivariable'), \n",
    "                    pd.Series(ridge_reg.predict(X_test), name = 'ridge'), \n",
    "                    pd.Series(rf_reg.predict(X_test), name = 'randomForest')], axis = 1)"
   ]
  },
  {
   "cell_type": "code",
   "execution_count": 37,
   "id": "f98823d6-e450-440a-95e4-7ab7e5a2e21d",
   "metadata": {},
   "outputs": [],
   "source": [
    "test_score = [\n",
    "    r2_score(test_LDA['y_LDA'], y_test_pred['lineal']),\n",
    "    r2_score(y_test, y_test_pred['multivariable']),\n",
    "    r2_score(y_test, y_test_pred['ridge']),\n",
    "    r2_score(y_test, y_test_pred['randomForest'])\n",
    "]"
   ]
  },
  {
   "cell_type": "code",
   "execution_count": 38,
   "id": "76c96902-79dc-4a46-a76b-9db2809e5726",
   "metadata": {},
   "outputs": [
    {
     "data": {
      "image/png": "[encoded data removed]",
      "text/plain": [
       "<Figure size 1000x600 with 1 Axes>"
      ]
     },
     "metadata": {},
     "output_type": "display_data"
    }
   ],
   "source": [
    "fig, ax = plt.subplots(figsize=(10, 6))\n",
    "index = np.arange(len(['Lineal', 'Multivariable', 'Ridge', 'randomForest']))\n",
    "bar_width = 0.35\n",
    "\n",
    "bar = ax.bar(index, test_score, bar_width, label='Train R^2')\n",
    "\n",
    "ax.set_xlabel('Model')\n",
    "ax.set_ylabel('R^2 Score')\n",
    "ax.set_title('Model performance comparison')\n",
    "ax.set_xticks(index + bar_width / 2)\n",
    "ax.set_xticklabels(['Lineal', 'Multivariable', 'Ridge', 'randomForest'])\n",
    "ax.legend()\n",
    "\n",
    "plt.tight_layout()\n",
    "plt.show()"
   ]
  },
  {
   "cell_type": "code",
   "execution_count": 39,
   "id": "53a1473a-4a68-444d-a309-1b597d40c894",
   "metadata": {},
   "outputs": [
    {
     "data": {
      "text/plain": [
       "[0.0, -0.02249264808081297, -0.0225660068148974, -1021.4527532858108]"
      ]
     },
     "execution_count": 39,
     "metadata": {},
     "output_type": "execute_result"
    }
   ],
   "source": [
    "test_score"
   ]
  }
 ],
 "metadata": {
  "kernelspec": {
   "display_name": "Python 3 (ipykernel)",
   "language": "python",
   "name": "python3"
  },
  "language_info": {
   "codemirror_mode": {
    "name": "ipython",
    "version": 3
   },
   "file_extension": ".py",
   "mimetype": "text/x-python",
   "name": "python",
   "nbconvert_exporter": "python",
   "pygments_lexer": "ipython3",
   "version": "3.12.5"
  }
 },
 "nbformat": 4,
 "nbformat_minor": 5
}
