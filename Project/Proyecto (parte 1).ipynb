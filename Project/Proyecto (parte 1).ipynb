{
 "cells": [
  {
   "cell_type": "markdown",
   "id": "3cfcbb0a-268d-4563-a1d6-6b0dbaa5a023",
   "metadata": {},
   "source": [
    "importar librerias"
   ]
  },
  {
   "cell_type": "code",
   "execution_count": 1,
   "id": "c8bcd57e-d24e-4f43-ba83-0baeb5415657",
   "metadata": {},
   "outputs": [],
   "source": [
    "import pandas as pd\n",
    "import datetime\n",
    "import numpy as np"
   ]
  },
  {
   "cell_type": "markdown",
   "id": "f7c72a01-bcd7-4e8c-a089-551ea8efdc53",
   "metadata": {},
   "source": [
    "importar CSV"
   ]
  },
  {
   "cell_type": "code",
   "execution_count": 2,
   "id": "a7dc58ea-2898-4b4b-a28d-da1f45b0f756",
   "metadata": {},
   "outputs": [
    {
     "data": {
      "text/plain": [
       "hotel                                  0\n",
       "is_canceled                            0\n",
       "lead_time                              0\n",
       "arrival_date_year                      0\n",
       "arrival_date_month                     0\n",
       "arrival_date_week_number               0\n",
       "arrival_date_day_of_month              0\n",
       "stays_in_weekend_nights                0\n",
       "stays_in_week_nights                   0\n",
       "adults                                 0\n",
       "children                               4\n",
       "babies                                 0\n",
       "meal                                   0\n",
       "country                              488\n",
       "market_segment                         0\n",
       "distribution_channel                   0\n",
       "is_repeated_guest                      0\n",
       "previous_cancellations                 0\n",
       "previous_bookings_not_canceled         0\n",
       "reserved_room_type                     0\n",
       "assigned_room_type                     0\n",
       "booking_changes                        0\n",
       "deposit_type                           0\n",
       "agent                              16340\n",
       "company                           112593\n",
       "days_in_waiting_list                   0\n",
       "customer_type                          0\n",
       "adr                                    0\n",
       "required_car_parking_spaces            0\n",
       "total_of_special_requests              0\n",
       "reservation_status                     0\n",
       "reservation_status_date                0\n",
       "dtype: int64"
      ]
     },
     "execution_count": 2,
     "metadata": {},
     "output_type": "execute_result"
    }
   ],
   "source": [
    "Bookings = pd.read_csv(f'C:/Users/Usuario/Documents/Jupyter/Proyecto/Hotel_Booking.csv', na_values=r'\\N')\n",
    "\n",
    "Bookings.isnull().sum()"
   ]
  },
  {
   "cell_type": "markdown",
   "id": "189774ae-2ea1-4c35-b022-06269a5bf855",
   "metadata": {},
   "source": [
    "Quito las columnas que de antemano ya se que no me van a servir"
   ]
  },
  {
   "cell_type": "code",
   "execution_count": 3,
   "id": "826856fd-0b85-4d63-920d-234433e4ef58",
   "metadata": {},
   "outputs": [
    {
     "data": {
      "text/plain": [
       "hotel                          2\n",
       "is_canceled                    2\n",
       "lead_time                    479\n",
       "arrival_date_year              3\n",
       "arrival_date_month            12\n",
       "arrival_date_week_number      53\n",
       "arrival_date_day_of_month     31\n",
       "stays_in_weekend_nights       17\n",
       "stays_in_week_nights          35\n",
       "market_segment                 8\n",
       "reserved_room_type            10\n",
       "assigned_room_type            12\n",
       "reservation_status             3\n",
       "reservation_status_date      926\n",
       "dtype: int64"
      ]
     },
     "execution_count": 3,
     "metadata": {},
     "output_type": "execute_result"
    }
   ],
   "source": [
    "Bookings = Bookings.drop(['adults', 'children', 'babies', 'meal', 'country', 'distribution_channel', 'is_repeated_guest', 'previous_cancellations', \n",
    "                          'previous_bookings_not_canceled', 'booking_changes', 'deposit_type', 'agent', 'company', 'days_in_waiting_list', \n",
    "                          'customer_type', 'adr', 'required_car_parking_spaces', 'total_of_special_requests'], axis=1)\n",
    "\n",
    "Bookings.nunique()"
   ]
  },
  {
   "cell_type": "markdown",
   "id": "7900335c-e3f4-4814-a839-273b27dd410a",
   "metadata": {},
   "source": [
    "Hay dos hoteles. Hay que quedarse con el que tenga más registros."
   ]
  },
  {
   "cell_type": "code",
   "execution_count": 4,
   "id": "18f21e4f-4eeb-4397-84f2-d7ac5a394e49",
   "metadata": {},
   "outputs": [
    {
     "name": "stdout",
     "output_type": "stream",
     "text": [
      "Resort Hotel\n",
      "City Hotel\n"
     ]
    }
   ],
   "source": [
    "for i in Bookings['hotel'].unique():\n",
    "    print(str(i))"
   ]
  },
  {
   "cell_type": "code",
   "execution_count": 5,
   "id": "c27fb261-921e-45ff-848c-e46b0bd09ce1",
   "metadata": {},
   "outputs": [
    {
     "name": "stdout",
     "output_type": "stream",
     "text": [
      "Reservaciones efectivas de Resort Hotel: 40060 \n",
      "Reservaciones efectivas de City Hotel: 79330\n"
     ]
    }
   ],
   "source": [
    "RH = Bookings.loc[(Bookings['hotel'] == 'Resort Hotel'),:]\n",
    "CH = Bookings.loc[(Bookings['hotel'] == 'City Hotel'),:]\n",
    "\n",
    "print('Reservaciones efectivas de Resort Hotel:', RH.shape[0], '\\nReservaciones efectivas de City Hotel:', CH.shape[0])"
   ]
  },
  {
   "cell_type": "markdown",
   "id": "1d87fd81-60eb-4241-ae93-ad132ea70181",
   "metadata": {},
   "source": [
    "Necesito saber si *reservation_status* y *is_canceled* muestran la misma información"
   ]
  },
  {
   "cell_type": "code",
   "execution_count": 6,
   "id": "17234a14-6dc6-4bc6-8bb0-2e4ace97f383",
   "metadata": {},
   "outputs": [
    {
     "name": "stdout",
     "output_type": "stream",
     "text": [
      "0\n",
      "1\n"
     ]
    }
   ],
   "source": [
    "for i in Bookings['is_canceled'].unique():\n",
    "    print(str(i))"
   ]
  },
  {
   "cell_type": "code",
   "execution_count": 7,
   "id": "bb747fb7-d635-4a74-a592-15062988445a",
   "metadata": {},
   "outputs": [
    {
     "name": "stdout",
     "output_type": "stream",
     "text": [
      "Check-Out\n",
      "Canceled\n",
      "No-Show\n"
     ]
    }
   ],
   "source": [
    "for i in Bookings['reservation_status'].unique():\n",
    "    print(str(i))"
   ]
  },
  {
   "cell_type": "code",
   "execution_count": 8,
   "id": "635ab62f-bc73-4319-87d4-5149113ff739",
   "metadata": {},
   "outputs": [
    {
     "name": "stdout",
     "output_type": "stream",
     "text": [
      "De las reservaciones del City Hotel, tenemos los siguientes resultados\n",
      " TP:  46228 \t FP:  0 \n",
      " FN:  0 \t TN:  33102\n"
     ]
    }
   ],
   "source": [
    "CH_Effective = Bookings.loc[(Bookings['hotel'] == 'City Hotel') & (Bookings['is_canceled'] == 0), :]\n",
    "CH_Canceled = Bookings.loc[(Bookings['hotel'] == 'City Hotel') & (Bookings['is_canceled'] == 1), :]\n",
    "\n",
    "CHTP = CH_Effective.loc[(CH_Effective['reservation_status'] == 'Check-Out'), :].shape[0]\n",
    "CHFP = CH_Effective.loc[(CH_Effective['reservation_status'] != 'Check-Out'), :].shape[0]\n",
    "\n",
    "CHFN = CH_Canceled.loc[(CH_Canceled['reservation_status'] == 'Check-Out'), :].shape[0]\n",
    "CHTN = CH_Canceled.loc[(CH_Canceled['reservation_status'] != 'Check-Out'), :].shape[0]\n",
    "\n",
    "print('De las reservaciones del City Hotel, tenemos los siguientes resultados\\n', \n",
    "      'TP: ', CHTP, '\\t', 'FP: ',CHFP, '\\n', 'FN: ',CHFN, '\\t', 'TN: ',CHTN)"
   ]
  },
  {
   "cell_type": "markdown",
   "id": "9e31a194-2e5b-4a36-8795-453c185fe802",
   "metadata": {},
   "source": [
    "Con esto ya se que los atributos *reservation_status* y *is_canceled* me dicen lo mismo, pero *reservation_status* adicionalmente me dice si la cancelación fue anticipada o fue un *No-Show*, así que me quedo con *reservation_status* y tiro *is_canceled*"
   ]
  },
  {
   "cell_type": "code",
   "execution_count": 9,
   "id": "d1cf9487-404b-4953-9938-ada0dc795ef2",
   "metadata": {},
   "outputs": [],
   "source": [
    "CH = CH.drop(['hotel', 'is_canceled'], axis=1)"
   ]
  },
  {
   "cell_type": "markdown",
   "id": "d8b37059-862f-4c30-97a2-3075643eca35",
   "metadata": {},
   "source": [
    "Reviso nuevamente las características de los atributos en el dataset:"
   ]
  },
  {
   "cell_type": "code",
   "execution_count": 10,
   "id": "9215855b-819b-40ce-8166-20767fa9235d",
   "metadata": {},
   "outputs": [
    {
     "data": {
      "text/plain": [
       "lead_time                    453\n",
       "arrival_date_year              3\n",
       "arrival_date_month            12\n",
       "arrival_date_week_number      53\n",
       "arrival_date_day_of_month     31\n",
       "stays_in_weekend_nights       14\n",
       "stays_in_week_nights          29\n",
       "market_segment                 8\n",
       "reserved_room_type             8\n",
       "assigned_room_type             9\n",
       "reservation_status             3\n",
       "reservation_status_date      864\n",
       "dtype: int64"
      ]
     },
     "execution_count": 10,
     "metadata": {},
     "output_type": "execute_result"
    }
   ],
   "source": [
    "CH.nunique()"
   ]
  },
  {
   "cell_type": "code",
   "execution_count": 11,
   "id": "339c3818-e946-44b4-89dc-1c19de47ff22",
   "metadata": {},
   "outputs": [
    {
     "name": "stdout",
     "output_type": "stream",
     "text": [
      "<class 'pandas.core.frame.DataFrame'>\n",
      "Index: 79330 entries, 40060 to 119389\n",
      "Data columns (total 12 columns):\n",
      " #   Column                     Non-Null Count  Dtype \n",
      "---  ------                     --------------  ----- \n",
      " 0   lead_time                  79330 non-null  int64 \n",
      " 1   arrival_date_year          79330 non-null  int64 \n",
      " 2   arrival_date_month         79330 non-null  object\n",
      " 3   arrival_date_week_number   79330 non-null  int64 \n",
      " 4   arrival_date_day_of_month  79330 non-null  int64 \n",
      " 5   stays_in_weekend_nights    79330 non-null  int64 \n",
      " 6   stays_in_week_nights       79330 non-null  int64 \n",
      " 7   market_segment             79330 non-null  object\n",
      " 8   reserved_room_type         79330 non-null  object\n",
      " 9   assigned_room_type         79330 non-null  object\n",
      " 10  reservation_status         79330 non-null  object\n",
      " 11  reservation_status_date    79330 non-null  object\n",
      "dtypes: int64(6), object(6)\n",
      "memory usage: 7.9+ MB\n"
     ]
    }
   ],
   "source": [
    "CH.info()"
   ]
  },
  {
   "cell_type": "markdown",
   "id": "1b84e0a0-23dc-48c5-ab5e-c2d978e4b49e",
   "metadata": {},
   "source": [
    "El .csv proviene de una bitácora de registros, en la que cada entrada representa una reservación. Esto lo vamos a pasar a series de tiempo, en la que cada registro va a representar una TS que corresponde a un día en particular, mientras que las columnas dirán la cantidad de habitaciones reservadas que se tenían para ese día. A ese parámetro le llamaremos *lead*. Entonces, necesito saber el *lead_time* más grande (es decir, cual fue la reservación con mayor anticipación registrada en la bitácora). Ese valor me va a definir la cantidad de columnas que tendrá el nuevo dataset."
   ]
  },
  {
   "cell_type": "code",
   "execution_count": 12,
   "id": "45a06da8-1853-4138-ae45-a8758c44fe3d",
   "metadata": {},
   "outputs": [
    {
     "data": {
      "text/plain": [
       "np.int64(629)"
      ]
     },
     "execution_count": 12,
     "metadata": {},
     "output_type": "execute_result"
    }
   ],
   "source": [
    "CH['lead_time'].max()"
   ]
  },
  {
   "cell_type": "markdown",
   "id": "ccfca402-79dd-46b0-b412-651bf01b2ff7",
   "metadata": {},
   "source": [
    "Ahora, como en el nuevo dataset cada registro representa la TS de las reservaciones para un día en particular, tendremos tantas filas a como días de llegada se tengan en la bitácora. Entonces sacamos la diferencia de días que hay en la bitácora respecto a los días de llegada:"
   ]
  },
  {
   "cell_type": "code",
   "execution_count": 13,
   "id": "c6167f13-ef9c-4109-af7f-b634ca23f66d",
   "metadata": {},
   "outputs": [
    {
     "name": "stdout",
     "output_type": "stream",
     "text": [
      "Los registros van del año 2015 al año 2017\n"
     ]
    }
   ],
   "source": [
    "YM = CH['arrival_date_year'].max()\n",
    "Ym = CH['arrival_date_year'].min()\n",
    "\n",
    "print('Los registros van del año', Ym, 'al año', YM)"
   ]
  },
  {
   "cell_type": "markdown",
   "id": "fc3fd386-b8f9-4e43-8063-bf7c624482b8",
   "metadata": {},
   "source": [
    "Tendremos que formatear una columna de fecha, la cual servirá de etiqueta para las TS. Entonces verificamos no tener fechas erróneas (considerando años bisiestos), y creamos la columna *arrival_date*:"
   ]
  },
  {
   "cell_type": "code",
   "execution_count": 14,
   "id": "c6c4961c-6669-42a6-bd1c-56c39c2b6afd",
   "metadata": {},
   "outputs": [
    {
     "data": {
      "text/plain": [
       "['July',\n",
       " 'August',\n",
       " 'September',\n",
       " 'October',\n",
       " 'November',\n",
       " 'December',\n",
       " 'January',\n",
       " 'February',\n",
       " 'March',\n",
       " 'April',\n",
       " 'May',\n",
       " 'June']"
      ]
     },
     "execution_count": 14,
     "metadata": {},
     "output_type": "execute_result"
    }
   ],
   "source": [
    "list(CH['arrival_date_month'].unique())"
   ]
  },
  {
   "cell_type": "code",
   "execution_count": 15,
   "id": "6dd874e5-60c9-4f43-bf8c-9dce6a6ef0a0",
   "metadata": {},
   "outputs": [
    {
     "data": {
      "text/plain": [
       "['07', '08', '09', '10', '11', '12', '01', '02', '03', '04', '05', '06']"
      ]
     },
     "execution_count": 15,
     "metadata": {},
     "output_type": "execute_result"
    }
   ],
   "source": [
    "Meses = {  'January' : '01',\n",
    "           'February' : '02',\n",
    "           'March' : '03',\n",
    "           'April' : '04',\n",
    "           'May' : '05',\n",
    "           'June' : '06',\n",
    "           'July' : '07',\n",
    "           'August' : '08',\n",
    "           'September' : '09',\n",
    "           'October' : '10',\n",
    "           'November' : '11',\n",
    "           'December' : '12'}\n",
    "\n",
    "CH['arrival_date_month'] = CH['arrival_date_month'].map(Meses).fillna(CH['arrival_date_month'])\n",
    "list(CH['arrival_date_month'].unique())\n"
   ]
  },
  {
   "cell_type": "code",
   "execution_count": 16,
   "id": "3ac1fb4c-b7fe-4b34-9bd2-2d33d50f9c95",
   "metadata": {},
   "outputs": [
    {
     "name": "stdout",
     "output_type": "stream",
     "text": [
      "Los registros van del día 1 al día 31\n"
     ]
    }
   ],
   "source": [
    "DM = CH['arrival_date_day_of_month'].max()\n",
    "Dm = CH['arrival_date_day_of_month'].min()\n",
    "\n",
    "print('Los registros van del día', Dm, 'al día', DM)"
   ]
  },
  {
   "cell_type": "code",
   "execution_count": 17,
   "id": "2ec57195-acfb-4002-a8ab-b9aef7c15a2f",
   "metadata": {},
   "outputs": [
    {
     "name": "stdout",
     "output_type": "stream",
     "text": [
      "mes: 01 \tdía máximo: 31\n",
      "mes: 02 \tdía máximo: 29\n",
      "mes: 03 \tdía máximo: 31\n",
      "mes: 04 \tdía máximo: 30\n",
      "mes: 05 \tdía máximo: 31\n",
      "mes: 06 \tdía máximo: 30\n",
      "mes: 07 \tdía máximo: 31\n",
      "mes: 08 \tdía máximo: 31\n",
      "mes: 09 \tdía máximo: 30\n",
      "mes: 10 \tdía máximo: 31\n",
      "mes: 11 \tdía máximo: 30\n",
      "mes: 12 \tdía máximo: 31\n"
     ]
    }
   ],
   "source": [
    "for month in sorted(CH['arrival_date_month'].unique()):\n",
    "    x = CH[CH['arrival_date_month'] == month]['arrival_date_day_of_month'].max()\n",
    "    print('mes:', month, '\\tdía máximo:', x)"
   ]
  },
  {
   "cell_type": "code",
   "execution_count": 18,
   "id": "8e27dc19-ff71-474a-bf16-ccafd209baa8",
   "metadata": {},
   "outputs": [
    {
     "name": "stdout",
     "output_type": "stream",
     "text": [
      "año: 2015 \tmes: 02 \tdía máximo: nan\n",
      "año: 2016 \tmes: 02 \tdía máximo: 29\n",
      "año: 2017 \tmes: 02 \tdía máximo: 28\n"
     ]
    }
   ],
   "source": [
    "for year in sorted(CH['arrival_date_year'].unique()):\n",
    "    x = CH[(CH['arrival_date_month'] == '02') & (CH['arrival_date_year'] == year)]['arrival_date_day_of_month'].max()\n",
    "    print('año:', year, '\\tmes:', '02', '\\tdía máximo:', x)"
   ]
  },
  {
   "cell_type": "markdown",
   "id": "99a31623-69d5-4475-8289-e21558d63a2e",
   "metadata": {},
   "source": [
    "El 2016 fue bisiesto, así que está bien. Procedemos a crear la columna *arrival_date*:"
   ]
  },
  {
   "cell_type": "code",
   "execution_count": 19,
   "id": "0b80b5e1-c1b7-4d08-8276-136e76aeca82",
   "metadata": {},
   "outputs": [
    {
     "name": "stdout",
     "output_type": "stream",
     "text": [
      "Los registros van desde el día 2015-07-01 00:00:00 hasta el día 2017-08-31 00:00:00\n"
     ]
    }
   ],
   "source": [
    "CH['arrival_date'] = pd.to_datetime(CH['arrival_date_year'].map(str) + '-' + CH['arrival_date_month'].map(str) + '-' + CH['arrival_date_day_of_month'].map(str))\n",
    "\n",
    "CH = CH.drop(['arrival_date_year', 'arrival_date_month', 'arrival_date_day_of_month', 'arrival_date_week_number'], axis=1)\n",
    "\n",
    "DateM = CH['arrival_date'].max()\n",
    "Datem = CH['arrival_date'].min()\n",
    "\n",
    "print('Los registros van desde el día', Datem, 'hasta el día', DateM)"
   ]
  },
  {
   "cell_type": "markdown",
   "id": "75d59f78-da66-4902-8edc-fe17193ac489",
   "metadata": {},
   "source": [
    "¿Qué pasa con la cantidad de días reservados, y con la fecha en la que se cancelan las reservaciones? Para llegar a eso, antes hay que verificar varias condiciones que aseguren que los registros son coherentes. Los siguientes tres puntos serán nuestra hipótesis sobre el comportamiento esperado de las reservaciones:\n",
    " - Cuando la reservación es *Canceled*, *reservation_status_date* debe ser menor o igual a *arrival_date*\n",
    " - Cuando la reservación es *No-Show*,  *reservation_status_date* debe ser igual a *arrival_date*\n",
    " - Cuando la reserva es efectiva, la mayor parte de los casos debería cumplirse que *stays_in_week_nights + stays_in_weekend_nights* sea igual a *reservation_status_date - arrival_date*, sin embargo, cabe la posibilidad de que el huésped se retire antes de la fecha de salida de su reservación, o que extienda la reservación por más días. De cualquier forma, lo que si debe pasar es que *reservation_status_date* sea mayor o igual que *arrival_date*\n",
    "\n",
    "Para lo anterior vamos a crear una columna temporal llamada *validation*, la cual será un atributo booleano que marcará 0 cuando se cumpla lo que esperamos, y 1 cuando pase lo contrario. También será necesario formatear los demás atributos de fechas a *datetime*, para poder hacer cálculos de forma adecuada:"
   ]
  },
  {
   "cell_type": "code",
   "execution_count": 20,
   "id": "e141266e-9054-402c-a51d-bbf7c2b9fe20",
   "metadata": {},
   "outputs": [
    {
     "name": "stdout",
     "output_type": "stream",
     "text": [
      "<class 'pandas.core.frame.DataFrame'>\n",
      "Index: 79330 entries, 40060 to 119389\n",
      "Data columns (total 9 columns):\n",
      " #   Column                   Non-Null Count  Dtype         \n",
      "---  ------                   --------------  -----         \n",
      " 0   lead_time                79330 non-null  int64         \n",
      " 1   stays_in_weekend_nights  79330 non-null  int64         \n",
      " 2   stays_in_week_nights     79330 non-null  int64         \n",
      " 3   market_segment           79330 non-null  object        \n",
      " 4   reserved_room_type       79330 non-null  object        \n",
      " 5   assigned_room_type       79330 non-null  object        \n",
      " 6   reservation_status       79330 non-null  object        \n",
      " 7   reservation_status_date  79330 non-null  object        \n",
      " 8   arrival_date             79330 non-null  datetime64[ns]\n",
      "dtypes: datetime64[ns](1), int64(3), object(5)\n",
      "memory usage: 6.1+ MB\n"
     ]
    }
   ],
   "source": [
    "CH.info()"
   ]
  },
  {
   "cell_type": "code",
   "execution_count": 21,
   "id": "a18aa6d8-a976-4567-8183-b30ba8f03efa",
   "metadata": {},
   "outputs": [
    {
     "data": {
      "text/plain": [
       "40060    03/07/2015\n",
       "40061    01/07/2015\n",
       "40062    30/04/2015\n",
       "40063    23/06/2015\n",
       "40064    02/04/2015\n",
       "40065    25/06/2015\n",
       "40066    05/07/2015\n",
       "40067    25/06/2015\n",
       "40068    02/07/2015\n",
       "40069    02/07/2015\n",
       "Name: reservation_status_date, dtype: object"
      ]
     },
     "execution_count": 21,
     "metadata": {},
     "output_type": "execute_result"
    }
   ],
   "source": [
    "CH['reservation_status_date'].head(10)"
   ]
  },
  {
   "cell_type": "code",
   "execution_count": 22,
   "id": "e068e340-4cbf-4de1-ad2b-9ebb5d42083e",
   "metadata": {},
   "outputs": [
    {
     "data": {
      "text/plain": [
       "40060   2015-07-03\n",
       "40061   2015-07-01\n",
       "40062   2015-04-30\n",
       "40063   2015-06-23\n",
       "40064   2015-04-02\n",
       "40065   2015-06-25\n",
       "40066   2015-07-05\n",
       "40067   2015-06-25\n",
       "40068   2015-07-02\n",
       "40069   2015-07-02\n",
       "Name: reservation_status_date, dtype: datetime64[ns]"
      ]
     },
     "execution_count": 22,
     "metadata": {},
     "output_type": "execute_result"
    }
   ],
   "source": [
    "CH['reservation_status_date'] = pd.to_datetime(CH['reservation_status_date'].str[6:11] + '-' + CH['reservation_status_date'].str[3:5] + '-' + CH['reservation_status_date'].str[0:2])\n",
    "CH['reservation_status_date'].head(10)"
   ]
  },
  {
   "cell_type": "markdown",
   "id": "a7192329-ea07-4d11-8b57-6e43ad4b4402",
   "metadata": {},
   "source": [
    "Creamos un atributo de *effective_days*, el cual guardará la cantidad de días en los que la reservación fue efectiva, y utilizamos el atributo *validation* como auxiliar verificar que las tres hipótesis que se expusieron anteriormente se cumplen:"
   ]
  },
  {
   "cell_type": "code",
   "execution_count": 23,
   "id": "f6de6426-cfc8-4f11-be16-1513fd96c318",
   "metadata": {},
   "outputs": [
    {
     "data": {
      "text/plain": [
       "array([0])"
      ]
     },
     "execution_count": 23,
     "metadata": {},
     "output_type": "execute_result"
    }
   ],
   "source": [
    "CH['effective_days'] = (CH['reservation_status_date'] - CH['arrival_date']).dt.days\n",
    "\n",
    "CH['validation'] = [1 if x > 0 else 0 for x in CH['effective_days']] \n",
    "CH[CH['reservation_status'] == 'Canceled']['validation'].unique()\n"
   ]
  },
  {
   "cell_type": "code",
   "execution_count": 24,
   "id": "857c9653-2f25-44e9-a339-b94be50f0127",
   "metadata": {},
   "outputs": [
    {
     "data": {
      "text/plain": [
       "array([0])"
      ]
     },
     "execution_count": 24,
     "metadata": {},
     "output_type": "execute_result"
    }
   ],
   "source": [
    "CH['validation'] = [1 if x != 0 else 0 for x in CH['effective_days']] \n",
    "CH[CH['reservation_status'] == 'No-Show']['validation'].unique()\n"
   ]
  },
  {
   "cell_type": "code",
   "execution_count": 25,
   "id": "fbb4ad0c-d1c8-4bcd-8c91-898688df8f0d",
   "metadata": {},
   "outputs": [
    {
     "data": {
      "text/plain": [
       "array([0])"
      ]
     },
     "execution_count": 25,
     "metadata": {},
     "output_type": "execute_result"
    }
   ],
   "source": [
    "CH['validation'] = [1 if x < 0 else 0 for x in CH['effective_days']] \n",
    "CH[CH['reservation_status'] == 'Check-Out']['validation'].unique()\n"
   ]
  },
  {
   "cell_type": "markdown",
   "id": "c3c16413-9153-4f7e-a6de-d64d76d77657",
   "metadata": {},
   "source": [
    "Como en los tres casos tenemos que *validation* solo toma valores iguales a cero, ya confirmamos las tres hipótesis. Ahora bien, respecto a los últimos registros en el dataset, estos corresponden a reservaciones para las últimas series de tiempo. "
   ]
  },
  {
   "cell_type": "code",
   "execution_count": 26,
   "id": "842ab60a-799b-44f5-b382-9ead77d7d84d",
   "metadata": {
    "scrolled": true
   },
   "outputs": [
    {
     "data": {
      "text/html": [
       "<div>\n",
       "<style scoped>\n",
       "    .dataframe tbody tr th:only-of-type {\n",
       "        vertical-align: middle;\n",
       "    }\n",
       "\n",
       "    .dataframe tbody tr th {\n",
       "        vertical-align: top;\n",
       "    }\n",
       "\n",
       "    .dataframe thead th {\n",
       "        text-align: right;\n",
       "    }\n",
       "</style>\n",
       "<table border=\"1\" class=\"dataframe\">\n",
       "  <thead>\n",
       "    <tr style=\"text-align: right;\">\n",
       "      <th></th>\n",
       "      <th>lead_time</th>\n",
       "      <th>stays_in_weekend_nights</th>\n",
       "      <th>stays_in_week_nights</th>\n",
       "      <th>market_segment</th>\n",
       "      <th>reserved_room_type</th>\n",
       "      <th>assigned_room_type</th>\n",
       "      <th>reservation_status</th>\n",
       "      <th>reservation_status_date</th>\n",
       "      <th>arrival_date</th>\n",
       "      <th>effective_days</th>\n",
       "      <th>validation</th>\n",
       "    </tr>\n",
       "  </thead>\n",
       "  <tbody>\n",
       "    <tr>\n",
       "      <th>119385</th>\n",
       "      <td>23</td>\n",
       "      <td>2</td>\n",
       "      <td>5</td>\n",
       "      <td>Offline TA/TO</td>\n",
       "      <td>A</td>\n",
       "      <td>A</td>\n",
       "      <td>Check-Out</td>\n",
       "      <td>2017-09-06</td>\n",
       "      <td>2017-08-30</td>\n",
       "      <td>7</td>\n",
       "      <td>0</td>\n",
       "    </tr>\n",
       "    <tr>\n",
       "      <th>119386</th>\n",
       "      <td>102</td>\n",
       "      <td>2</td>\n",
       "      <td>5</td>\n",
       "      <td>Online TA</td>\n",
       "      <td>E</td>\n",
       "      <td>E</td>\n",
       "      <td>Check-Out</td>\n",
       "      <td>2017-09-07</td>\n",
       "      <td>2017-08-31</td>\n",
       "      <td>7</td>\n",
       "      <td>0</td>\n",
       "    </tr>\n",
       "    <tr>\n",
       "      <th>119387</th>\n",
       "      <td>34</td>\n",
       "      <td>2</td>\n",
       "      <td>5</td>\n",
       "      <td>Online TA</td>\n",
       "      <td>D</td>\n",
       "      <td>D</td>\n",
       "      <td>Check-Out</td>\n",
       "      <td>2017-09-07</td>\n",
       "      <td>2017-08-31</td>\n",
       "      <td>7</td>\n",
       "      <td>0</td>\n",
       "    </tr>\n",
       "    <tr>\n",
       "      <th>119388</th>\n",
       "      <td>109</td>\n",
       "      <td>2</td>\n",
       "      <td>5</td>\n",
       "      <td>Online TA</td>\n",
       "      <td>A</td>\n",
       "      <td>A</td>\n",
       "      <td>Check-Out</td>\n",
       "      <td>2017-09-07</td>\n",
       "      <td>2017-08-31</td>\n",
       "      <td>7</td>\n",
       "      <td>0</td>\n",
       "    </tr>\n",
       "    <tr>\n",
       "      <th>119389</th>\n",
       "      <td>205</td>\n",
       "      <td>2</td>\n",
       "      <td>7</td>\n",
       "      <td>Online TA</td>\n",
       "      <td>A</td>\n",
       "      <td>A</td>\n",
       "      <td>Check-Out</td>\n",
       "      <td>2017-09-07</td>\n",
       "      <td>2017-08-29</td>\n",
       "      <td>9</td>\n",
       "      <td>0</td>\n",
       "    </tr>\n",
       "  </tbody>\n",
       "</table>\n",
       "</div>"
      ],
      "text/plain": [
       "        lead_time  stays_in_weekend_nights  stays_in_week_nights  \\\n",
       "119385         23                        2                     5   \n",
       "119386        102                        2                     5   \n",
       "119387         34                        2                     5   \n",
       "119388        109                        2                     5   \n",
       "119389        205                        2                     7   \n",
       "\n",
       "       market_segment reserved_room_type assigned_room_type  \\\n",
       "119385  Offline TA/TO                  A                  A   \n",
       "119386      Online TA                  E                  E   \n",
       "119387      Online TA                  D                  D   \n",
       "119388      Online TA                  A                  A   \n",
       "119389      Online TA                  A                  A   \n",
       "\n",
       "       reservation_status reservation_status_date arrival_date  \\\n",
       "119385          Check-Out              2017-09-06   2017-08-30   \n",
       "119386          Check-Out              2017-09-07   2017-08-31   \n",
       "119387          Check-Out              2017-09-07   2017-08-31   \n",
       "119388          Check-Out              2017-09-07   2017-08-31   \n",
       "119389          Check-Out              2017-09-07   2017-08-29   \n",
       "\n",
       "        effective_days  validation  \n",
       "119385               7           0  \n",
       "119386               7           0  \n",
       "119387               7           0  \n",
       "119388               7           0  \n",
       "119389               9           0  "
      ]
     },
     "execution_count": 26,
     "metadata": {},
     "output_type": "execute_result"
    }
   ],
   "source": [
    "CH.tail()"
   ]
  },
  {
   "cell_type": "markdown",
   "id": "15b15cdd-0367-4273-afc4-c92328aff901",
   "metadata": {},
   "source": [
    "Por ejemplo, para el registro con *id = 79329*, la reservación se hace con llegada el *2017-08-29* y reserva nueve días. Cuando hagamos la transformación de los datos y cambiemos de espacio, la última serie de tiempo corresponderá al *2017-08-31*, pero esta reservación llega hasta el *2017-09-06*. Las reservaciones que son después del *2017-08-31* ya no me interesan porque serán series de tiempo incompletas (ya que no podré ver cómo cierra la ocupación). Entonces, hay que truncar estas reservaciones para que, al momento de cambiar de dataset, no tengamos instrucciones que busquen guardar información en fechas posteriores a nuestra última TS. Para ello creamos dos atributos adicionales: *days_reserved* y *leaving_date*, los cuales servirán de referencia junto a *reservation_status* para adaptar los valores de *reservation_status_date* y *effective_days*:"
   ]
  },
  {
   "cell_type": "code",
   "execution_count": 27,
   "id": "f3aea5ee-5d55-434a-b454-baa865db21f6",
   "metadata": {},
   "outputs": [
    {
     "name": "stdout",
     "output_type": "stream",
     "text": [
      "<class 'pandas.core.frame.DataFrame'>\n",
      "Index: 79330 entries, 40060 to 119389\n",
      "Data columns (total 11 columns):\n",
      " #   Column                   Non-Null Count  Dtype         \n",
      "---  ------                   --------------  -----         \n",
      " 0   lead_time                79330 non-null  int64         \n",
      " 1   stays_in_weekend_nights  79330 non-null  int64         \n",
      " 2   stays_in_week_nights     79330 non-null  int64         \n",
      " 3   market_segment           79330 non-null  object        \n",
      " 4   reserved_room_type       79330 non-null  object        \n",
      " 5   assigned_room_type       79330 non-null  object        \n",
      " 6   reservation_status       79330 non-null  object        \n",
      " 7   reservation_status_date  79330 non-null  datetime64[ns]\n",
      " 8   arrival_date             79330 non-null  datetime64[ns]\n",
      " 9   effective_days           79330 non-null  int64         \n",
      " 10  validation               79330 non-null  int64         \n",
      "dtypes: datetime64[ns](2), int64(5), object(4)\n",
      "memory usage: 7.3+ MB\n"
     ]
    }
   ],
   "source": [
    "CH.info()"
   ]
  },
  {
   "cell_type": "code",
   "execution_count": 28,
   "id": "62c353c8-ac4b-4cd3-8620-fc0be5818c26",
   "metadata": {},
   "outputs": [
    {
     "name": "stderr",
     "output_type": "stream",
     "text": [
      "C:\\Users\\Usuario\\AppData\\Local\\Temp\\ipykernel_20348\\1416503358.py:7: FutureWarning: Setting an item of incompatible dtype is deprecated and will raise an error in a future version of pandas. Value '2015-07-03 00:00:00' has dtype incompatible with int64, please explicitly cast to a compatible dtype first.\n",
      "  CH.iloc[i, 12] = CH.iloc[i, 8] + datetime.timedelta(days = int(CH.iloc[i, 11]))\n"
     ]
    }
   ],
   "source": [
    "CH = CH.reset_index(drop = True)\n",
    "\n",
    "CH['days_reserved'] = (CH['stays_in_week_nights'] + CH['stays_in_weekend_nights']).astype(int)\n",
    "\n",
    "CH['leaving_date'] = 0\n",
    "for i in range(0, len(CH)):\n",
    "    CH.iloc[i, 12] = CH.iloc[i, 8] + datetime.timedelta(days = int(CH.iloc[i, 11]))\n",
    "    if CH.iloc[i, 12] > DateM:\n",
    "        CH.iloc[i, 11] = (DateM - CH.iloc[i, 8]).days + 1\n",
    "        if CH.iloc[i, 6] == 'Check-Out':\n",
    "            CH.iloc[i, 7] = DateM + datetime.timedelta(days = 1)\n",
    "            CH.iloc[i, 9] = (CH.iloc[i, 7] - CH.iloc[i, 8]).days\n",
    "\n",
    "CH = CH.drop(['leaving_date'], axis=1)"
   ]
  },
  {
   "cell_type": "markdown",
   "id": "47896d8b-4579-4778-90d4-62e3842b415d",
   "metadata": {},
   "source": [
    "También hay que considerar que existen clientes que salen anticipadamente, o extienden su estancia. Estos están bajo el estatus de *Check-Out*, pero su estancia no tiene la misma duración que lo que se indica en la reservación:"
   ]
  },
  {
   "cell_type": "code",
   "execution_count": 29,
   "id": "b4dfd522-34c9-435e-88fb-f0d93b1c6b28",
   "metadata": {},
   "outputs": [
    {
     "data": {
      "text/plain": [
       "np.int64(6)"
      ]
     },
     "execution_count": 29,
     "metadata": {},
     "output_type": "execute_result"
    }
   ],
   "source": [
    "CH['validation'] = (CH['days_reserved'] == CH['effective_days'])\n",
    "CH[(CH['validation'] == 0) & (CH['reservation_status'] == 'Check-Out')]['validation'].count()\n"
   ]
  },
  {
   "cell_type": "code",
   "execution_count": 30,
   "id": "8134c70a-58c6-488c-aaee-dd41895a4211",
   "metadata": {},
   "outputs": [
    {
     "data": {
      "text/html": [
       "<div>\n",
       "<style scoped>\n",
       "    .dataframe tbody tr th:only-of-type {\n",
       "        vertical-align: middle;\n",
       "    }\n",
       "\n",
       "    .dataframe tbody tr th {\n",
       "        vertical-align: top;\n",
       "    }\n",
       "\n",
       "    .dataframe thead th {\n",
       "        text-align: right;\n",
       "    }\n",
       "</style>\n",
       "<table border=\"1\" class=\"dataframe\">\n",
       "  <thead>\n",
       "    <tr style=\"text-align: right;\">\n",
       "      <th></th>\n",
       "      <th>days_reserved</th>\n",
       "      <th>effective_days</th>\n",
       "    </tr>\n",
       "  </thead>\n",
       "  <tbody>\n",
       "    <tr>\n",
       "      <th>234</th>\n",
       "      <td>4</td>\n",
       "      <td>0</td>\n",
       "    </tr>\n",
       "    <tr>\n",
       "      <th>6121</th>\n",
       "      <td>9</td>\n",
       "      <td>1</td>\n",
       "    </tr>\n",
       "    <tr>\n",
       "      <th>30600</th>\n",
       "      <td>2</td>\n",
       "      <td>0</td>\n",
       "    </tr>\n",
       "    <tr>\n",
       "      <th>73461</th>\n",
       "      <td>1</td>\n",
       "      <td>0</td>\n",
       "    </tr>\n",
       "    <tr>\n",
       "      <th>73942</th>\n",
       "      <td>1</td>\n",
       "      <td>0</td>\n",
       "    </tr>\n",
       "    <tr>\n",
       "      <th>73943</th>\n",
       "      <td>1</td>\n",
       "      <td>0</td>\n",
       "    </tr>\n",
       "  </tbody>\n",
       "</table>\n",
       "</div>"
      ],
      "text/plain": [
       "       days_reserved  effective_days\n",
       "234                4               0\n",
       "6121               9               1\n",
       "30600              2               0\n",
       "73461              1               0\n",
       "73942              1               0\n",
       "73943              1               0"
      ]
     },
     "execution_count": 30,
     "metadata": {},
     "output_type": "execute_result"
    }
   ],
   "source": [
    "CH[(CH['validation'] == 0) & (CH['reservation_status'] == 'Check-Out')][['days_reserved', 'effective_days']]"
   ]
  },
  {
   "cell_type": "markdown",
   "id": "0086f092-6ad6-4141-a202-a5d52429d1e4",
   "metadata": {},
   "source": [
    "Son solo seis registros, y estos hicieron el *Check-Out* antes de la fecha de salida de la reservación, lo cual es bastante normal considerando que tenemos registros de 2 años completos, así que, para los casos en que el huésped se retira antes de terminar con el periodo de su estancia, cancelaremos el resto de noches reservadas el día en que haga su *Check-Out*. Para el resto de reservaciones con estatus de *Canceled* y *No-Show* se cancelarán el día que indica el atributo *reservation_status_date*."
   ]
  },
  {
   "cell_type": "code",
   "execution_count": 31,
   "id": "1e763258-8f40-44bc-abd2-04af3ff0956c",
   "metadata": {},
   "outputs": [
    {
     "data": {
      "text/html": [
       "<div>\n",
       "<style scoped>\n",
       "    .dataframe tbody tr th:only-of-type {\n",
       "        vertical-align: middle;\n",
       "    }\n",
       "\n",
       "    .dataframe tbody tr th {\n",
       "        vertical-align: top;\n",
       "    }\n",
       "\n",
       "    .dataframe thead th {\n",
       "        text-align: right;\n",
       "    }\n",
       "</style>\n",
       "<table border=\"1\" class=\"dataframe\">\n",
       "  <thead>\n",
       "    <tr style=\"text-align: right;\">\n",
       "      <th></th>\n",
       "      <th>days_reserved</th>\n",
       "      <th>effective_days</th>\n",
       "    </tr>\n",
       "  </thead>\n",
       "  <tbody>\n",
       "    <tr>\n",
       "      <th>234</th>\n",
       "      <td>4</td>\n",
       "      <td>1</td>\n",
       "    </tr>\n",
       "    <tr>\n",
       "      <th>6121</th>\n",
       "      <td>9</td>\n",
       "      <td>1</td>\n",
       "    </tr>\n",
       "    <tr>\n",
       "      <th>30600</th>\n",
       "      <td>2</td>\n",
       "      <td>1</td>\n",
       "    </tr>\n",
       "    <tr>\n",
       "      <th>73461</th>\n",
       "      <td>1</td>\n",
       "      <td>1</td>\n",
       "    </tr>\n",
       "    <tr>\n",
       "      <th>73942</th>\n",
       "      <td>1</td>\n",
       "      <td>1</td>\n",
       "    </tr>\n",
       "    <tr>\n",
       "      <th>73943</th>\n",
       "      <td>1</td>\n",
       "      <td>1</td>\n",
       "    </tr>\n",
       "  </tbody>\n",
       "</table>\n",
       "</div>"
      ],
      "text/plain": [
       "       days_reserved  effective_days\n",
       "234                4               1\n",
       "6121               9               1\n",
       "30600              2               1\n",
       "73461              1               1\n",
       "73942              1               1\n",
       "73943              1               1"
      ]
     },
     "execution_count": 31,
     "metadata": {},
     "output_type": "execute_result"
    }
   ],
   "source": [
    "CH = CH.drop(['stays_in_week_nights', 'stays_in_weekend_nights'], axis=1)\n",
    "\n",
    "CH.loc[(CH['validation'] == 0) & (CH['reservation_status'] == 'Check-Out') & (CH['effective_days'] == 0), 'effective_days'] = 1\n",
    "\n",
    "CH[(CH['validation'] == 0) & (CH['reservation_status'] == 'Check-Out')][['days_reserved', 'effective_days']]"
   ]
  },
  {
   "cell_type": "markdown",
   "id": "10405a4d-f85b-4bc5-8694-9c1fd0f5c9ed",
   "metadata": {},
   "source": [
    "Respecto a los atributos *reserved_room_type* y *assigned_room_type* realmente lo único relevante es la habitación reservada, ya que esa es la que contabiliza y afecta el inventario disponible. La asignación se realiza durante el *Check-In* y los motivos por los que puede cambiar el tipo de habitación es porque el cliente decidió incrementar la categoría, porque hubo sobreventa o porque la habitación reservada se encuentra en algún tipo de mantenimiento. Podría darse el caso en el que el huésped cancele su reservación debido a la disponibilidad de los tipos de habitación, pero como no tenemos forma de saber esto (si es que sucede), entonces daremos por hecho que *assigned_room_type* no afecta absolutamente en nada al comportamiento de las habitaciones reservadas."
   ]
  },
  {
   "cell_type": "code",
   "execution_count": 32,
   "id": "4b0dbd48-d5db-4d2f-9396-f198cfb3ce7c",
   "metadata": {},
   "outputs": [
    {
     "data": {
      "text/plain": [
       "np.int64(0)"
      ]
     },
     "execution_count": 32,
     "metadata": {},
     "output_type": "execute_result"
    }
   ],
   "source": [
    "CH.loc[(CH['reservation_status'] == 'Canceled') & (CH['effective_days'] < 0), 'effective_days'] = 0\n",
    "CH.loc[(CH['reservation_status'] == 'Canceled') & (CH['effective_days'] < 0), 'effective_days'].count()\n"
   ]
  },
  {
   "cell_type": "code",
   "execution_count": 33,
   "id": "62a00df8-1c08-4062-b164-0a98a391d557",
   "metadata": {},
   "outputs": [
    {
     "name": "stdout",
     "output_type": "stream",
     "text": [
      "<class 'pandas.core.frame.DataFrame'>\n",
      "RangeIndex: 79330 entries, 0 to 79329\n",
      "Data columns (total 8 columns):\n",
      " #   Column                   Non-Null Count  Dtype         \n",
      "---  ------                   --------------  -----         \n",
      " 0   lead_time                79330 non-null  int64         \n",
      " 1   market_segment           79330 non-null  object        \n",
      " 2   reserved_room_type       79330 non-null  object        \n",
      " 3   reservation_status       79330 non-null  object        \n",
      " 4   reservation_status_date  79330 non-null  datetime64[ns]\n",
      " 5   arrival_date             79330 non-null  datetime64[ns]\n",
      " 6   effective_days           79330 non-null  int64         \n",
      " 7   days_reserved            79330 non-null  int64         \n",
      "dtypes: datetime64[ns](2), int64(3), object(3)\n",
      "memory usage: 4.8+ MB\n"
     ]
    }
   ],
   "source": [
    "CH = CH.drop(['assigned_room_type', 'validation'], axis=1)\n",
    "CH.info()"
   ]
  },
  {
   "cell_type": "markdown",
   "id": "f467480c-bcec-4312-9115-4204dde86bb3",
   "metadata": {},
   "source": [
    "Para hacer la transformación al nuevo dataset de series de tiempo, necesito saber las dimensiones que tendrá. Además se tiene la intención de descomponer la TS principal de un día en varias TS, en donde cada una represente las reservaciones realizadas bajo ciertas condiciones. Un ejemplo de esto podría ser el descomponer las TS principales por segmentos de mercado y por tipos de habitación, pudiendo crear un modelo específico para cada componente:"
   ]
  },
  {
   "cell_type": "code",
   "execution_count": 34,
   "id": "44226a6b-5f24-491d-b0ef-a3a41cc823fc",
   "metadata": {},
   "outputs": [
    {
     "name": "stdout",
     "output_type": "stream",
     "text": [
      "Dimension del dataset: [ 792 x 686 ]\n",
      "Tipos de habitaciones: 8 \n",
      "Segmentos de mercado: 8 \n",
      "Total de posibles combinaciones: 64\n"
     ]
    }
   ],
   "source": [
    "m = CH['lead_time'].max() + CH['days_reserved'].max()\n",
    "n = (CH['arrival_date'].max() - CH['arrival_date'].min()).days\n",
    "ms = CH['market_segment'].nunique()\n",
    "rt = CH['reserved_room_type'].nunique()\n",
    "\n",
    "print('Dimension del dataset: [', n, 'x', m, ']\\nTipos de habitaciones:', rt, '\\nSegmentos de mercado:', ms, '\\nTotal de posibles combinaciones:', ms*rt)"
   ]
  },
  {
   "cell_type": "markdown",
   "id": "8b38f8be-142d-4442-a82d-ccdcf0f78bd3",
   "metadata": {},
   "source": [
    "Como aún no tengo una TS como para analizar cual tratamiento me conviene más, buscaremos ir desde lo particular hacia lo general. Esto es, vamos a descomponer la TS ya que siempre podremos recuperar la TS principal simplemente sumándolas, pero no podemos hacer la descomposición a partir de la TS principal. Aún así, hacer 64 modelos parece un tanto ambicioso, así que me voy a limitar a usar 8 datasets: uno por cada segmento de mercado. Solo falta definir las reglas para hacer el cambio de espacio de los datos.\n",
    "Necesito transformar los atributos de fechas para tener nuevos atributos que describan fechas relativas a la fecha de referencia de la TS. Es decir, si una TS corresponde al 01/01/2016 (que vendría a representar el *arrival_date*, entonces quisiera saber con cuantos días de anticipación se hizo la reservación respecto a la fecha de llegada. esto también aplica para las cancelaciones). Para ello crearemos un nuevo atributo, llamado *last_update*, en el cual se cumplirá lo siguiente:\n",
    "- si *last_update < 0*, implica que *reservation_status = Canceled*, ya que no existe un *No-Show* anticipado ni un *Check-Out* anticipado.\n",
    "- de forma análoga, si *last_update > 0*, entonces *reservation_status = Check-Out*\n",
    "- Por último, si *last_update == 0*, entonces *reservation_status* podría tomar cualquier valor, por lo que habría que verificar para saber la implicación de ese registro en las TS: "
   ]
  },
  {
   "cell_type": "code",
   "execution_count": 35,
   "id": "be6815c6-7f19-4ea5-80f0-8a49a4f14a46",
   "metadata": {},
   "outputs": [],
   "source": [
    "CH = CH.drop(['reserved_room_type'], axis = 1)\n",
    "\n",
    "CH['last_update'] = (CH['arrival_date'] - CH['reservation_status_date']).dt.days\n"
   ]
  },
  {
   "cell_type": "markdown",
   "id": "341cde3c-eb13-4a97-ac76-fb6315348834",
   "metadata": {},
   "source": [
    "Simplificamos los nombres de los segmentos e inicializamos los nuevos datasets en donde se guardarán las TS ya descompuestas:"
   ]
  },
  {
   "cell_type": "code",
   "execution_count": 36,
   "id": "7566e8d7-2837-4207-b64d-e871c68db5f9",
   "metadata": {},
   "outputs": [
    {
     "data": {
      "text/plain": [
       "['Offline TA/TO',\n",
       " 'Online TA',\n",
       " 'Groups',\n",
       " 'Complementary',\n",
       " 'Direct',\n",
       " 'Corporate',\n",
       " 'Undefined',\n",
       " 'Aviation']"
      ]
     },
     "execution_count": 36,
     "metadata": {},
     "output_type": "execute_result"
    }
   ],
   "source": [
    "list(CH['market_segment'].unique())"
   ]
  },
  {
   "cell_type": "code",
   "execution_count": 37,
   "id": "5da8ceee-3525-483a-b342-c400a28938e8",
   "metadata": {
    "scrolled": true
   },
   "outputs": [
    {
     "data": {
      "text/html": [
       "<div>\n",
       "<style scoped>\n",
       "    .dataframe tbody tr th:only-of-type {\n",
       "        vertical-align: middle;\n",
       "    }\n",
       "\n",
       "    .dataframe tbody tr th {\n",
       "        vertical-align: top;\n",
       "    }\n",
       "\n",
       "    .dataframe thead th {\n",
       "        text-align: right;\n",
       "    }\n",
       "</style>\n",
       "<table border=\"1\" class=\"dataframe\">\n",
       "  <thead>\n",
       "    <tr style=\"text-align: right;\">\n",
       "      <th></th>\n",
       "      <th>date</th>\n",
       "      <th>0</th>\n",
       "      <th>1</th>\n",
       "      <th>2</th>\n",
       "      <th>3</th>\n",
       "      <th>4</th>\n",
       "      <th>5</th>\n",
       "      <th>6</th>\n",
       "      <th>7</th>\n",
       "      <th>8</th>\n",
       "      <th>...</th>\n",
       "      <th>677</th>\n",
       "      <th>678</th>\n",
       "      <th>679</th>\n",
       "      <th>680</th>\n",
       "      <th>681</th>\n",
       "      <th>682</th>\n",
       "      <th>683</th>\n",
       "      <th>684</th>\n",
       "      <th>685</th>\n",
       "      <th>686</th>\n",
       "    </tr>\n",
       "  </thead>\n",
       "  <tbody>\n",
       "    <tr>\n",
       "      <th>0</th>\n",
       "      <td>2015-07-01</td>\n",
       "      <td>0</td>\n",
       "      <td>0</td>\n",
       "      <td>0</td>\n",
       "      <td>0</td>\n",
       "      <td>0</td>\n",
       "      <td>0</td>\n",
       "      <td>0</td>\n",
       "      <td>0</td>\n",
       "      <td>0</td>\n",
       "      <td>...</td>\n",
       "      <td>0</td>\n",
       "      <td>0</td>\n",
       "      <td>0</td>\n",
       "      <td>0</td>\n",
       "      <td>0</td>\n",
       "      <td>0</td>\n",
       "      <td>0</td>\n",
       "      <td>0</td>\n",
       "      <td>0</td>\n",
       "      <td>0</td>\n",
       "    </tr>\n",
       "    <tr>\n",
       "      <th>1</th>\n",
       "      <td>2015-07-02</td>\n",
       "      <td>0</td>\n",
       "      <td>0</td>\n",
       "      <td>0</td>\n",
       "      <td>0</td>\n",
       "      <td>0</td>\n",
       "      <td>0</td>\n",
       "      <td>0</td>\n",
       "      <td>0</td>\n",
       "      <td>0</td>\n",
       "      <td>...</td>\n",
       "      <td>0</td>\n",
       "      <td>0</td>\n",
       "      <td>0</td>\n",
       "      <td>0</td>\n",
       "      <td>0</td>\n",
       "      <td>0</td>\n",
       "      <td>0</td>\n",
       "      <td>0</td>\n",
       "      <td>0</td>\n",
       "      <td>0</td>\n",
       "    </tr>\n",
       "    <tr>\n",
       "      <th>2</th>\n",
       "      <td>2015-07-03</td>\n",
       "      <td>0</td>\n",
       "      <td>0</td>\n",
       "      <td>0</td>\n",
       "      <td>0</td>\n",
       "      <td>0</td>\n",
       "      <td>0</td>\n",
       "      <td>0</td>\n",
       "      <td>0</td>\n",
       "      <td>0</td>\n",
       "      <td>...</td>\n",
       "      <td>0</td>\n",
       "      <td>0</td>\n",
       "      <td>0</td>\n",
       "      <td>0</td>\n",
       "      <td>0</td>\n",
       "      <td>0</td>\n",
       "      <td>0</td>\n",
       "      <td>0</td>\n",
       "      <td>0</td>\n",
       "      <td>0</td>\n",
       "    </tr>\n",
       "    <tr>\n",
       "      <th>3</th>\n",
       "      <td>2015-07-04</td>\n",
       "      <td>0</td>\n",
       "      <td>0</td>\n",
       "      <td>0</td>\n",
       "      <td>0</td>\n",
       "      <td>0</td>\n",
       "      <td>0</td>\n",
       "      <td>0</td>\n",
       "      <td>0</td>\n",
       "      <td>0</td>\n",
       "      <td>...</td>\n",
       "      <td>0</td>\n",
       "      <td>0</td>\n",
       "      <td>0</td>\n",
       "      <td>0</td>\n",
       "      <td>0</td>\n",
       "      <td>0</td>\n",
       "      <td>0</td>\n",
       "      <td>0</td>\n",
       "      <td>0</td>\n",
       "      <td>0</td>\n",
       "    </tr>\n",
       "    <tr>\n",
       "      <th>4</th>\n",
       "      <td>2015-07-05</td>\n",
       "      <td>0</td>\n",
       "      <td>0</td>\n",
       "      <td>0</td>\n",
       "      <td>0</td>\n",
       "      <td>0</td>\n",
       "      <td>0</td>\n",
       "      <td>0</td>\n",
       "      <td>0</td>\n",
       "      <td>0</td>\n",
       "      <td>...</td>\n",
       "      <td>0</td>\n",
       "      <td>0</td>\n",
       "      <td>0</td>\n",
       "      <td>0</td>\n",
       "      <td>0</td>\n",
       "      <td>0</td>\n",
       "      <td>0</td>\n",
       "      <td>0</td>\n",
       "      <td>0</td>\n",
       "      <td>0</td>\n",
       "    </tr>\n",
       "  </tbody>\n",
       "</table>\n",
       "<p>5 rows × 688 columns</p>\n",
       "</div>"
      ],
      "text/plain": [
       "        date  0  1  2  3  4  5  6  7  8  ...  677  678  679  680  681  682  \\\n",
       "0 2015-07-01  0  0  0  0  0  0  0  0  0  ...    0    0    0    0    0    0   \n",
       "1 2015-07-02  0  0  0  0  0  0  0  0  0  ...    0    0    0    0    0    0   \n",
       "2 2015-07-03  0  0  0  0  0  0  0  0  0  ...    0    0    0    0    0    0   \n",
       "3 2015-07-04  0  0  0  0  0  0  0  0  0  ...    0    0    0    0    0    0   \n",
       "4 2015-07-05  0  0  0  0  0  0  0  0  0  ...    0    0    0    0    0    0   \n",
       "\n",
       "   683  684  685  686  \n",
       "0    0    0    0    0  \n",
       "1    0    0    0    0  \n",
       "2    0    0    0    0  \n",
       "3    0    0    0    0  \n",
       "4    0    0    0    0  \n",
       "\n",
       "[5 rows x 688 columns]"
      ]
     },
     "execution_count": 37,
     "metadata": {},
     "output_type": "execute_result"
    }
   ],
   "source": [
    "CH.loc[CH['market_segment'] == 'Offline TA/TO', 'market_segment'] = 'Offline'\n",
    "CH.loc[CH['market_segment'] == 'Online TA', 'market_segment'] = 'Online'\n",
    "\n",
    "a = ['date']\n",
    "b = []\n",
    "for i in range(0, m + 1):\n",
    "    b = b + [i]\n",
    "\n",
    "Offline = pd.DataFrame(0, np.arange(n + 1), a + b)\n",
    "Online = pd.DataFrame(0, np.arange(n + 1), a + b)\n",
    "Groups = pd.DataFrame(0, np.arange(n + 1), a + b)\n",
    "Complementary = pd.DataFrame(0, np.arange(n + 1), a + b)\n",
    "Direct = pd.DataFrame(0, np.arange(n + 1), a + b)\n",
    "Corporate = pd.DataFrame(0, np.arange(n + 1), a + b)\n",
    "Undefined = pd.DataFrame(0, np.arange(n + 1), a + b)\n",
    "Aviation = pd.DataFrame(0, np.arange(n + 1), a + b)\n",
    "\n",
    "DataFrames = [Offline, Online, Groups, Complementary, Direct, Corporate, Undefined, Aviation]\n",
    "segment = {'Offline': 0, 'Online': 1, 'Groups': 2, 'Complementary': 3, 'Direct': 4, 'Corporate': 5, 'Undefined': 6, 'Aviation': 7}\n",
    "\n",
    "\n",
    "minDate = CH['arrival_date'].min()\n",
    "for x in DataFrames:\n",
    "    x['date'] = pd.date_range(minDate, periods = n + 1)\n",
    "\n",
    "DataFrames[0].head()"
   ]
  },
  {
   "cell_type": "markdown",
   "id": "d332fac7-17d8-46e6-9500-c33c51018dd7",
   "metadata": {},
   "source": [
    "Creamos una función que va agregar las reservaciones dentro de la serie de tiempo que le corresponda, en donde el parámetro *mode* va a indicar con *+1* si se agrega una reservación y con *-1* si se elimina:"
   ]
  },
  {
   "cell_type": "code",
   "execution_count": 38,
   "id": "99adce94-a61a-4d46-8609-563dce8f49a2",
   "metadata": {},
   "outputs": [],
   "source": [
    "def modify_series(df, arrival, days, lead, mode):\n",
    "    date_start = (arrival - minDate).days\n",
    "    date_end = date_start + days \n",
    "    k = 1\n",
    "    for i in range(date_start, date_end):\n",
    "        df.iloc[i, 1:lead + k + 1] = df.iloc[i, 1:lead + k + 1] + mode\n",
    "        k = k + 1\n",
    "        "
   ]
  },
  {
   "cell_type": "markdown",
   "id": "2ea0a592-4387-474c-8801-ea3db4ad1e54",
   "metadata": {},
   "source": [
    "Y ahora leemos todos los registros que hay en la bitácora para reflejar las reservaciones en los nuevos dataset, así como los movimientos de *Canceled*, *No-Show* y *Check-Out* que corresponden."
   ]
  },
  {
   "cell_type": "code",
   "execution_count": 39,
   "id": "eec654f5-d116-49e2-a444-e06c307c7868",
   "metadata": {},
   "outputs": [],
   "source": [
    "CH['days_diff'] = CH['days_reserved'] - CH['effective_days']\n",
    "\n",
    "CH.to_csv('Cleaned_CH.csv', index = False)\n",
    "\n",
    "for i in range(0, len(CH)):\n",
    "    modify_series(DataFrames[segment[CH.iloc[i, 1]]], CH.iloc[i, 4], CH.iloc[i, 6], CH.iloc[i, 0], 1)\n",
    "    \n",
    "    match CH.iloc[i, 2]:\n",
    "        case 'Canceled':\n",
    "            modify_series(DataFrames[segment[CH.iloc[i, 1]]], CH.iloc[i, 4], CH.iloc[i, 6], CH.iloc[i, 7], -1)\n",
    "        \n",
    "        case 'No-Show':\n",
    "            modify_series(DataFrames[segment[CH.iloc[i, 1]]], CH.iloc[i, 4], CH.iloc[i, 6], 0, -1)\n",
    "    \n",
    "        case 'Check-Out': \n",
    "            if CH.iloc[i, 8] > 0:\n",
    "                modify_series(DataFrames[segment[CH.iloc[i, 1]]], CH.iloc[i, 4] + datetime.timedelta(days = int(CH.iloc[i, 5])), CH.iloc[i, 8], 0, -1)\n",
    "                    \n",
    "            elif CH.iloc[i, 8] < 0:\n",
    "                modify_series(DataFrames[segment[CH.iloc[i, 1]]], CH.iloc[i, 4] + datetime.timedelta(days = int(CH.iloc[i, 6])), -1 * CH.iloc[i, 8], 0, 1)\n",
    "\n",
    "for x in list(CH['market_segment'].unique()):\n",
    "    DataFrames[segment[x]].to_csv(x + '.csv', index = False) "
   ]
  },
  {
   "cell_type": "code",
   "execution_count": null,
   "id": "f17e64f5-8ebc-4940-b053-a25aa61a0a05",
   "metadata": {},
   "outputs": [],
   "source": []
  }
 ],
 "metadata": {
  "kernelspec": {
   "display_name": "Python 3 (ipykernel)",
   "language": "python",
   "name": "python3"
  },
  "language_info": {
   "codemirror_mode": {
    "name": "ipython",
    "version": 3
   },
   "file_extension": ".py",
   "mimetype": "text/x-python",
   "name": "python",
   "nbconvert_exporter": "python",
   "pygments_lexer": "ipython3",
   "version": "3.12.7"
  }
 },
 "nbformat": 4,
 "nbformat_minor": 5
}
