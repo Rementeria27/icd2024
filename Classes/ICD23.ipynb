{
 "cells": [
  {
   "cell_type": "markdown",
   "id": "71ae6dcd-3406-4b46-b49e-3c5837d7217d",
   "metadata": {},
   "source": [
    "# **NumPy Cheat Sheet**"
   ]
  },
  {
   "cell_type": "markdown",
   "id": "189e3a42-d2bc-4aaf-b4bc-1bd80bf9bf13",
   "metadata": {},
   "source": [
    "### NumPy"
   ]
  },
  {
   "cell_type": "markdown",
   "id": "0731acab-1bef-471d-aafc-be13a8789003",
   "metadata": {},
   "source": [
    "La librería NumPy es el núcleo de las librerías para el cómputo científico en Python.\n",
    "Provee la manipulación de arreglos multidimensionales y herramientas para trabajar con estos arreglos.\n",
    "\n",
    "Por convención, se importa con la siguiente sentencia:\n",
    "    >>> import numpy as np"
   ]
  },
  {
   "cell_type": "markdown",
   "id": "04a30635-75e6-4e1a-a45e-86b1e75e0cc8",
   "metadata": {},
   "source": [
    "# *Arreglos de NumPy*"
   ]
  },
  {
   "cell_type": "markdown",
   "id": "43738576-bf4f-434f-9617-39e72f7cc10b",
   "metadata": {},
   "source": [
    "<img src=\"ICD23-1.png\">"
   ]
  },
  {
   "cell_type": "markdown",
   "id": "34dbacbd-98b2-4632-aa12-82bd9732c028",
   "metadata": {},
   "source": [
    "# *Creando Arreglos*"
   ]
  },
  {
   "cell_type": "markdown",
   "id": "c93e00cb-4ab0-44db-b005-91d19c3a402d",
   "metadata": {},
   "source": [
    "    >>> a = np.array([1, 2, 3])\n",
    "    >>> b = np.array([(1, 5, 2, 3), (4, 5, 6)], dtype = flat)\n",
    "    >>> c = np.array([[(1, 5, 2, 3), (4, 5, 6)], [(3, 2, 1), (4, 5, 6)]], dtype = float)\n"
   ]
  },
  {
   "cell_type": "markdown",
   "id": "8189bb6d-8242-42d3-a268-9354131c22d3",
   "metadata": {},
   "source": [
    "### Marcadores Iniciales"
   ]
  },
  {
   "cell_type": "markdown",
   "id": "2dc83a2d-7947-4d70-9c63-9bd176d0eb22",
   "metadata": {},
   "source": [
    "    >>> np.zeros((3, 4))                     #Create an array of zeros\n",
    "    >>> np.ones((2, 3, 4), dtype = np.int16) #Create an array of ones\n",
    "    >>> d = np.arange(10, 25, 5)             #Create an array of evenly spaced values (step value)\n",
    "    >>> np.linspace(0, 2, 9)                 #Create an array of evenly spaced values (number of samples)\n",
    "    >>> e = np.full((2, 2), 7)               #Create a constant array\n",
    "    >>> f = np.eye(2)                        #Create a 2X2 identity matrix\n",
    "    >>> np.random.random((2, 2))             #Create an array with random values\n",
    "    >>> np.empty((3, 2))                     #Create an empty array"
   ]
  },
  {
   "cell_type": "markdown",
   "id": "8e97783e-f75d-497b-8d54-d8e8e9978f45",
   "metadata": {},
   "source": [
    "# *I/O*"
   ]
  },
  {
   "cell_type": "markdown",
   "id": "aa369511-d6b5-4904-bcf0-88aee62cd691",
   "metadata": {},
   "source": [
    "### Guardando y Cargando en Memoria"
   ]
  },
  {
   "cell_type": "markdown",
   "id": "e76f6077-643b-46ae-baf0-586a49378cbe",
   "metadata": {},
   "source": [
    "    >>> np.save('my_array', a)\n",
    "    >>> np.savez('array.npz', a, b)\n",
    "    >>> np.load('my_array.npy')"
   ]
  },
  {
   "cell_type": "markdown",
   "id": "78d76fa6-fa4c-4abd-92d9-c765370da315",
   "metadata": {},
   "source": [
    "### Guardando y Cargando Archivos de Texto"
   ]
  },
  {
   "cell_type": "markdown",
   "id": "f2acb4a5-8766-44dd-9a1c-29de511bf070",
   "metadata": {},
   "source": [
    "    >>> np.loadtxt(\"myfile.txt\")\n",
    "    >>> np.genfromtxt(\"my_file.csv\", delimiter = ',')\n",
    "    >>> np.savetxt(\"myarray.txt\", a, delimiter = \" \")"
   ]
  },
  {
   "cell_type": "markdown",
   "id": "6d7040e1-8436-46ca-abb7-6a718b6f8e58",
   "metadata": {},
   "source": [
    "# *Pidiendo Ayuda*"
   ]
  },
  {
   "cell_type": "markdown",
   "id": "27917a48-e422-4f4c-9830-a37718ef1138",
   "metadata": {},
   "source": [
    "    >>> np.info(np.ndarray.dtype)"
   ]
  },
  {
   "cell_type": "markdown",
   "id": "e2e481ed-1911-4fa7-9ef2-3efb5e72b95d",
   "metadata": {},
   "source": [
    "# *Características de los Arreglos*"
   ]
  },
  {
   "cell_type": "markdown",
   "id": "f9c4d8c5-ca9c-4da1-a31b-cc959d7eec88",
   "metadata": {},
   "source": [
    "    >>> a.shape        #Array dimensions\n",
    "    >>> len(a)         #Length of array\n",
    "    >>> b.ndim         #Number of array dimensions\n",
    "    >>> e.size         #Number of array elements\n",
    "    >>> b.dtype        #Data type of array elements\n",
    "    >>> b.dtype.name   #Name of data type\n",
    "    >>> b.astype(int)  #Convert an array to a different type"
   ]
  },
  {
   "cell_type": "markdown",
   "id": "55fc9b19-1b93-40ba-8589-798cd7ef9fbc",
   "metadata": {},
   "source": [
    "# *Tipos de Datos*"
   ]
  },
  {
   "cell_type": "markdown",
   "id": "966cbcaf-174a-441b-826f-98c429ba91b6",
   "metadata": {},
   "source": [
    "    >>> np.int64     #Signed 64-bit integer types\n",
    "    >>> np.float32   #Standard double-precision floating point\n",
    "    >>> np.complex   #Complex numbers represented by 128 floats\n",
    "    >>> np.bool      #Boolean type storing TRUE and FALSE values\n",
    "    >>> np.object    #Python object type\n",
    "    >>> np.string_   #Fixed-length string type\n",
    "    >>> np.unicode_  #Fixed-length unicode type"
   ]
  },
  {
   "cell_type": "markdown",
   "id": "b9eb826d-8e91-48ef-935c-13db4c95065b",
   "metadata": {},
   "source": [
    "# *Arreglos Matemáticos*"
   ]
  },
  {
   "cell_type": "markdown",
   "id": "3922bdfc-2e9b-46b7-b354-2b41137300af",
   "metadata": {},
   "source": [
    "### Operaciones Aritméticas"
   ]
  },
  {
   "cell_type": "markdown",
   "id": "ed8ea892-8f5d-4cdc-a4ee-31577a56b4a4",
   "metadata": {},
   "source": [
    "    >>> g = a - b         #Resta\n",
    "        array([[-0.5, 0.0, 0.0], [-3.0, 3.0, 3.0]])\n",
    "    >>> np.subtract(a, b) #Resta\n",
    "    >>> b + a             #Suma\n",
    "        array([[2.5, 4.0, 6.0],[5.0, 7.0, 9.0]])\n",
    "    >>> np.add(b,a)       #Suma\n",
    "    >>> a / b             #División\n",
    "        array([[0.66666667, 1.0, 1.0],[0.25, 0.4, 0.5]])\n",
    "    >>> np.divide(a,b)    #División\n",
    "    >>> a * b             #Multiplicación\n",
    "        array([[1.5, 4.0, 9.0],[ 4.0, 10.0, 18.0]])\n",
    "    >>> np.multiply(a,b)  #Multiplicación\n",
    "    >>> np.exp(b)         #Exponenciación\n",
    "    >>> np.sqrt(b)        #Raíz cuadrada\n",
    "    >>> np.sin(a)         #Aplica la función Sin sobre el arreglo\n",
    "    >>> np.cos(b)         #Aplica la función Cos sobre el arreglo\n",
    "    >>> np.log(a)         #Aplica la función ln sobre el arreglo\n",
    "    >>> e.dot(f)          #Producto punto\n",
    "        array([[7.0, 7.0],[7.0, 7.0]])"
   ]
  },
  {
   "cell_type": "markdown",
   "id": "222b885e-1372-410f-8b53-b5f30e763064",
   "metadata": {},
   "source": [
    "### Comparación"
   ]
  },
  {
   "cell_type": "markdown",
   "id": "f397ae6f-884a-4666-ab1f-73de902f4c68",
   "metadata": {},
   "source": [
    "    >>> a == b               #Compara los elementos término a término\n",
    "        array([[False, True, True], [False, False, False]], dtype=bool)\n",
    "    >>> a < 2                #Compara cada elemento con el valor dado\n",
    "        array([True, False, False], dtype=bool)\n",
    "    >>> np.array_equal(a, b) #Compara los elementos término a término"
   ]
  },
  {
   "cell_type": "markdown",
   "id": "668b7b92-94bd-42e3-a814-784f98e442b4",
   "metadata": {},
   "source": [
    "### Funciones Adicionales"
   ]
  },
  {
   "cell_type": "markdown",
   "id": "bcd389d4-e8e8-4460-8408-9cbceca356f1",
   "metadata": {},
   "source": [
    "    >>> a.sum()           #Suma término a término\n",
    "    >>> a.min()           #Mínimo de todos los términos\n",
    "    >>> b.max(axis=0)     #Máximo de una columna del arreglo\n",
    "    >>> b.cumsum(axis=1)  #Suma acumulada de los elementos\n",
    "    >>> a.mean()          #Media\n",
    "    >>> np.median(b)      #Mediana\n",
    "    >>> np.corrcoef(a)    #Coeficiente de correlación\n",
    "    >>> np.std(b)         #Desviación estándar"
   ]
  },
  {
   "cell_type": "markdown",
   "id": "e099a48b-8841-4560-b89c-42cdbb7cedb0",
   "metadata": {},
   "source": [
    "# *Copiando Arreglos*"
   ]
  },
  {
   "cell_type": "markdown",
   "id": "3739ac04-a5ed-46a3-9aaf-326db00e8c32",
   "metadata": {},
   "source": [
    "    >>> h = a.view()  #Crea una vista del arreglo con los mismos datos\n",
    "    >>> np.copy(a)    #Crea una copia del arreglo\n",
    "    >>> h = a.copy()  #Crea una copia profunda del arreglo"
   ]
  },
  {
   "cell_type": "markdown",
   "id": "b555559d-9b6f-4d82-8b4c-2d5dee356173",
   "metadata": {},
   "source": [
    "# *Ordenando Arreglos*"
   ]
  },
  {
   "cell_type": "markdown",
   "id": "a26ecc25-840c-4946-bd3e-838614cd8087",
   "metadata": {},
   "source": [
    "    >>> a.sort()       #Ordena un arreglo\n",
    "    >>> c.sort(axis=0) #Ordena los elementos que hay en el eje del arreglo"
   ]
  },
  {
   "cell_type": "markdown",
   "id": "1d0e4d7a-7d4f-4491-883b-2c31062696f5",
   "metadata": {},
   "source": [
    "# *Manipulación de un Arreglo*"
   ]
  },
  {
   "cell_type": "markdown",
   "id": "02866836-64c6-48b7-8fa8-77753bb38740",
   "metadata": {},
   "source": [
    "### Por Subíndices"
   ]
  },
  {
   "cell_type": "markdown",
   "id": "8c9081d8-80d3-4281-bda9-03c65edf634f",
   "metadata": {},
   "source": [
    "    >>> a[2]   #Selecciona el tercer elemento del arreglo\n",
    "        3\n",
    "    >>> b[1,2] #Selecciona el valor de la segunda fila y tercer columna\n",
    "        6.0"
   ]
  },
  {
   "cell_type": "markdown",
   "id": "dbd8bf66-ea3b-495b-a1e2-3470ab72088b",
   "metadata": {},
   "source": [
    "### Seccionar Arreglos"
   ]
  },
  {
   "cell_type": "markdown",
   "id": "77df41d9-adde-437f-bdc7-549d2f219b0e",
   "metadata": {},
   "source": [
    "    >>> a[0:2]        #Selecciona los elementos que están entre los índices 0 y 1\n",
    "        array([1, 2])\n",
    "    >>> b[0:2, 1]     #Selecciona los elementos que entre las filas 0 y 1, y la columna 1\n",
    "        array([2.0, 5.0])\n",
    "    >>> b[:1]         #Selecciona los elementos en la fila 1\n",
    "        array([[1.5, 2., 3.]])\n",
    "    >>> c[1, ...]     #Selecciona los elementos que están en la fila 1\n",
    "        array([[[ 3.0, 2.0, 1.0],[ 4.0, 5.0, 6.0]]])\n",
    "    >>> a[: : -1]     #Devuelte el arreglo en orden invertido"
   ]
  },
  {
   "cell_type": "markdown",
   "id": "e3c72445-3b96-484a-b96f-1cf2e844078c",
   "metadata": {},
   "source": [
    "### Índices Booleanos"
   ]
  },
  {
   "cell_type": "markdown",
   "id": "9c15caf0-31af-4ec8-b8e4-2bd7e2a5dbe5",
   "metadata": {},
   "source": [
    "    >>> a[a<2]    #Selecciona los elementos del arreglo que son menores al valor dado\n",
    "        array([1])"
   ]
  },
  {
   "cell_type": "markdown",
   "id": "98d49817-e0ba-407d-af35-9fbc192b5f55",
   "metadata": {},
   "source": [
    "### Índices Elegantes"
   ]
  },
  {
   "cell_type": "markdown",
   "id": "dc27516f-e6f3-4152-967e-e423f81f94e0",
   "metadata": {},
   "source": [
    "    >>> b[[1, 0, 1, 0],[0, 1, 2, 0]]    #Selecciona los elementos (1, 0), (0, 1), (1, 2) y (0, 0)\n",
    "        array([ 4.0, 2.0, 6.0, 1.5])\n",
    "    >>> b[[1, 0, 1, 0]][:,[0, 1, 2, 0]] #Selecciona un subconjunto de las filas y columnas de la matriz\n",
    "        array([[ 4.0, 5.0, 6.0, 4.0],[1.5, 2.0, 3.0, 1.5],[ 4.0, 5.0, 6.0, 4.0],[1.5, 2.0, 3.0, 1.5]])"
   ]
  },
  {
   "cell_type": "markdown",
   "id": "f0a0c1a8-ce87-49f1-965c-f3a2441407ca",
   "metadata": {},
   "source": [
    "### Transponiendo Arreglos"
   ]
  },
  {
   "cell_type": "markdown",
   "id": "ccba3bd8-b9c1-49ab-a036-c8ba37325b05",
   "metadata": {},
   "source": [
    "    >>> i = np.transpose(b)    #Permuta las dimensiones del arreglo\n",
    "    >>> i.T                    #Permuta las dimensiones del arreglo"
   ]
  },
  {
   "cell_type": "markdown",
   "id": "087b389c-2956-44bf-851e-06d86e861067",
   "metadata": {},
   "source": [
    "### Cambiando la Forma de los Arreglos"
   ]
  },
  {
   "cell_type": "markdown",
   "id": "8844b5d2-df32-4375-b392-e694102fc329",
   "metadata": {},
   "source": [
    "    >>> b.ravel()       #Convierte una matriz en un arreglo\n",
    "    >>> g.reshape(3, 2) #Cambia las dimensiones de la matriz, manteniendo los mismos datos"
   ]
  },
  {
   "cell_type": "markdown",
   "id": "355898d0-24bd-4b27-8979-7a0bc5b4e020",
   "metadata": {},
   "source": [
    "### Agregando o Eliminando Elementos"
   ]
  },
  {
   "cell_type": "markdown",
   "id": "ac0b9993-6c2d-4f35-b228-44030b168159",
   "metadata": {},
   "source": [
    "    >>> h.resize((2,6))  #Regresa una matriz de (2, 6)\n",
    "    >>> np.append(h,g)   #Anexa elementos al arreglo\n",
    "    >>> np.insert(a,1,5) #Inserta elementos al arreglo\n",
    "    >>> np.delete(a,[1]) #Elimina elementos de un arreglo"
   ]
  },
  {
   "cell_type": "markdown",
   "id": "d440cb1b-21f6-478c-9f8c-195a2da22fcc",
   "metadata": {},
   "source": [
    "### Combinando Arreglos"
   ]
  },
  {
   "cell_type": "markdown",
   "id": "5e77836a-2891-4cf5-954d-c15b50eb27af",
   "metadata": {},
   "source": [
    "    >>> np.concatenate((a,d),axis=0)  #Concatena arreglos\n",
    "        array([1, 2, 3, 10, 15, 20])\n",
    "    >>> np.vstack((a,b))              #Apila arreglos verticalmente\n",
    "        array([[1. , 2. , 3.],[1.5, 2. , 3.],[ 4. ,5. , 6. ]])\n",
    "    >>> np.r_[e,f]                   #Apila arreglos verticalmente\n",
    "    >>> np.hstack((e,f))             #Apila arreglos horizontalmente\n",
    "        array([[7.,7.,1.,0.],[7.,7.,0.,1.]])\n",
    "    >>> np.column_stack((a,d))       #Crea columnas apiladas\n",
    "        array([[1, 10],[ 2, 15],[ 3, 20]])\n",
    "    >>> np.c_[a,d]                   #Crea columnas apiladas"
   ]
  },
  {
   "cell_type": "markdown",
   "id": "d1203110-e40e-4553-ae2a-d738a6499915",
   "metadata": {},
   "source": [
    "### Dividiendo Arreglos"
   ]
  },
  {
   "cell_type": "markdown",
   "id": "99bbaf44-ed68-4fcc-a0de-3887efc6849f",
   "metadata": {},
   "source": [
    "    >>> np.hsplit(a,3)    #Divide un arreglo horizontalmente en 3 subarreglos del mismo tamaño\n",
    "        [array([1]),array([2]),array([3])]\n",
    "    >>> np.vsplit(c,2)    #Divide la matriz verticalmente en 2 submatrices del mismo tamaño\n",
    "        [array([[[ 1.5, 2. ,1.],[ 4. , 5. , 6. ]]]), array([[[ 3., 2., 3.],[ 4.,5., 6.]]])]"
   ]
  },
  {
   "cell_type": "markdown",
   "id": "ba79f412-582f-4bc7-afea-f6344557302a",
   "metadata": {},
   "source": [
    " "
   ]
  },
  {
   "cell_type": "markdown",
   "id": "a3f7890f-ee98-484b-b04d-792af9568fe0",
   "metadata": {},
   "source": [
    "# **Pandas Cheat Sheet**"
   ]
  },
  {
   "cell_type": "markdown",
   "id": "a98314c0-92bf-4a45-8263-fcdac8232e4b",
   "metadata": {},
   "source": [
    "# *Creando DataFrames*"
   ]
  },
  {
   "cell_type": "markdown",
   "id": "984fdc97-4e3d-45c7-b925-18a54806e4a2",
   "metadata": {},
   "source": [
    "    >>> df = pd.DataFrame({\"a\" : [4, 5, 6],\"b\" : [7, 8, 9],\"c\" : [10, 11, 12]},      #Especifica los elementos de cada columna\n",
    "        index = [1, 2, 3])\n",
    "    >>> df = pd.DataFrame([[4, 7, 10],[5, 8, 11],[6, 9, 12]],                        #Especifica los elementos de cada fila\n",
    "        index=[1, 2, 3],columns=['a', 'b', 'c'])\n",
    "    >>> df = pd.DataFrame({\"a\" : [4 ,5, 6],\"b\" : [7, 8, 9],\"c\" : [10, 11, 12]},      #Crea un DataFrame con un multi índice\n",
    "        index = pd.MultiIndex.from_tuples([('d’, 1), ('d’, 2),('e’, 2)], names=['n’, 'v']))"
   ]
  },
  {
   "cell_type": "markdown",
   "id": "c04c7fb1-b03c-441e-b700-231190b45a9f",
   "metadata": {},
   "source": [
    "# *Manipulación de Arreglos*"
   ]
  },
  {
   "cell_type": "markdown",
   "id": "c77051ca-fe60-4eb0-879d-aa841c04a7fb",
   "metadata": {},
   "source": [
    "    >>> pd.melt(df)                            #Reagrupa las columnas en filas\n",
    "    >>> df.pivot(columns='var', values='val')  #Distribuye las filas en columnas\n",
    "    >>> pd.concat([df1,df2])                   #Concatena las filas de datos\n",
    "    >>> pd.concat([df1,df2], axis=1)           #Concatena las columnas de datos\n",
    "    >>> df.sort_values('mpg')                  #Ordena las filas según los elementos de una columna (menor a mayor)\n",
    "    >>> df.sort_values('mpg’, ascending=False) #Ordena las filas según los elementos de una columna (mayor a menor)\n",
    "    >>> df.rename(columns = {'y':'year'})      #Renombra las columnas de un DataFrame\n",
    "    >>> df.sort_index()                        #Ordena los índices de un DataFrame\n",
    "    >>> df.reset_index()                       #Reinicia los índices de un DataFrame según los números de fila, y moviendo los índices a columnas\n",
    "    >>> df.drop(columns=['Length’, 'Height'])  #Elimina las columnas indicadas del DataFrame"
   ]
  },
  {
   "cell_type": "markdown",
   "id": "9a51870a-1e2a-418d-9e7b-c53902d4d9e1",
   "metadata": {},
   "source": [
    "# *Manipulación por Filas*"
   ]
  },
  {
   "cell_type": "markdown",
   "id": "47c159f7-abb4-4861-81a5-d51672b8b383",
   "metadata": {},
   "source": [
    "    >>> df[df.Length > 7]           #Extrae las filas que cumplen el criterio\n",
    "    >>> df.drop_duplicates()        #Borra las filas duplicadas\n",
    "    >>> df.sample(frac=0.5)         #Selecciona ¿fracciones? de columnas\n",
    "    >>> df.sample(n=10)             #Selecciona 10 filas aleatorias\n",
    "    >>> df.nlargest(n, 'value’)     #Selecciona y ordena los top n elementos\n",
    "    >>> df.nsmallest(n, 'value')    #Selecciona y ordena los últimos n elementos\n",
    "    >>> df.head(n)                  #Selecciona las primeras n filas\n",
    "    >>> df.tail(n)                  #Seleccionas las últimas n filas"
   ]
  },
  {
   "cell_type": "markdown",
   "id": "43f3ba38-8f08-4e5d-8b79-5eed0de19be1",
   "metadata": {},
   "source": [
    "# *Manipulación por Columnas*"
   ]
  },
  {
   "cell_type": "markdown",
   "id": "f210bbab-77be-432c-a0ba-bbdebd215210",
   "metadata": {},
   "source": [
    "    >>> df[['width’, 'length’, 'species']]    #Selecciona columnas con nombres específicos\n",
    "    >>> df['width'] or df.width               #Selecciona una columna con un nombre específico\n",
    "    >>> df.filter(regex = 'regex')            #Selecciona columnas que sus nombres coincidan a la condición"
   ]
  },
  {
   "cell_type": "markdown",
   "id": "1eeaebfa-c865-4d0d-9a15-e6e032d10930",
   "metadata": {},
   "source": [
    "# *Búsquedas por Fila*"
   ]
  },
  {
   "cell_type": "markdown",
   "id": "487c2803-d700-4683-ac47-1aac30ede4d2",
   "metadata": {},
   "source": [
    "    >>> df.query('Length > 7')\n",
    "    >>> df.query('Length > 7 and Width < 8')\n",
    "    >>> df.query('Name.str.startswith(\"abc\")', engine=\"python\")"
   ]
  },
  {
   "cell_type": "markdown",
   "id": "f724b107-17be-48a1-9400-b3bb4acc0eb8",
   "metadata": {},
   "source": [
    "# *Subconjuntos*"
   ]
  },
  {
   "cell_type": "markdown",
   "id": "b5b2fe3e-ddc2-49b6-9a5c-9293c2553eeb",
   "metadata": {},
   "source": [
    "* Usa df.loc[] y df.iloc[] para seleccionar filas, columnas o ambos.\n",
    "* Usa df.at[] y df.iat[] para acceder a un elemento por fila y columna.\n",
    "* El primer índice indica la fila y el segundo índice la columna."
   ]
  },
  {
   "cell_type": "markdown",
   "id": "f855c7e3-bc6a-4287-a033-d43fb3e6f348",
   "metadata": {},
   "source": [
    "    >>> df.iloc[10:20]                    #Selecciona las filas 10 - 20\n",
    "    >>> df.iloc[:, [1, 2, 5]]             #Selecciona las columnas en la posición 1, 2 y 5\n",
    "    >>> df.loc[:, 'x2':'x4']              #Selecciona las columnas entre x2 y x4\n",
    "    >>> df.loc[df['a'] > 10, ['a’, 'c']]  #Selecciona las filas que coincidan con la condición, y las columnas indicadas\n",
    "    >>> df.iat[1, 2]                      #Selecciona un elemento por índice\n",
    "    >>> df.at[4, 'A']                     #Selecciona un elemento por su etiqueta"
   ]
  },
  {
   "cell_type": "markdown",
   "id": "6d99ef87-dcc7-42de-b255-9606637a066c",
   "metadata": {},
   "source": [
    "# *Sentencias Lógicas en Python*"
   ]
  },
  {
   "cell_type": "markdown",
   "id": "52de033d-d917-4a4d-9291-7b0470546fca",
   "metadata": {},
   "source": [
    "<table style=\"width:40%\">\n",
    "\n",
    "<tr>\n",
    "<th> Sentencia </th>\n",
    "<th> Función </th>\n",
    "</tr>\n",
    "\n",
    "<tr>\n",
    "<td> != </th>\n",
    "<td> Distinto de </th>\n",
    "</tr>\n",
    "\n",
    "<tr>\n",
    "<td> < </th>\n",
    "<td> Menor que </th>\n",
    "</tr>\n",
    "\n",
    "<tr>\n",
    "<td> > </th>\n",
    "<td> Mayor que </th>\n",
    "</tr>\n",
    "\n",
    "<tr>\n",
    "<td> == </th>\n",
    "<td> Igual que </th>\n",
    "</tr>\n",
    "\n",
    "<tr>\n",
    "<td> <= </th>\n",
    "<td> Menor o igual que </th>\n",
    "</tr>\n",
    "\n",
    "<tr>\n",
    "<td> >= </th>\n",
    "<td> Mayor o igual que </th>\n",
    "</tr>\n",
    "\n",
    "<tr>\n",
    "<td> df.column.isin(values) </td>\n",
    "<td> Afiliación a un grupo </td>\n",
    "</tr>\n",
    "\n",
    "<tr>\n",
    "<td> pd.isnull(obj) </td>\n",
    "<td> Es NaN </td>\n",
    "</tr>\n",
    "\n",
    "<tr>\n",
    "<td> pd.notnull(obj) </td>\n",
    "<td> No es NaN </td>\n",
    "</tr>\n",
    "\n",
    "<tr>\n",
    "<td> &,|,~,^,df.any(),df.all() </td>\n",
    "<td> Sentencias lógicas </td>\n",
    "</tr>\n",
    "\n",
    "</table>"
   ]
  },
  {
   "cell_type": "markdown",
   "id": "a8803a5a-b69e-453e-a1a3-40e80d9ed6d5",
   "metadata": {},
   "source": [
    "# *Expresiones Regulares*"
   ]
  },
  {
   "cell_type": "markdown",
   "id": "dedb3689-3414-4398-904e-d103c416b30b",
   "metadata": {},
   "source": [
    "<table style=\"width:40%\">\n",
    "\n",
    "<tr>\n",
    "<th> Sentencia </th>\n",
    "<th> Función </th>\n",
    "</tr>\n",
    "\n",
    "<tr>\n",
    "<td> '\\.' </th>\n",
    "<td> Que contengan un punto </th>\n",
    "</tr>\n",
    "\n",
    "<tr>\n",
    "<td> 'Length$' </th>\n",
    "<td> que terminen con la palabra 'Length' </th>\n",
    "</tr>\n",
    "\n",
    "<tr>\n",
    "<td> '^Sepal' </th>\n",
    "<td> Que inicie con la palabra 'Sepal' </th>\n",
    "</tr>\n",
    "\n",
    "<tr>\n",
    "<td> '^x[1-5]$' </th>\n",
    "<td> que inicie con 'x' y termine con 1, 2, 3, 4 o 5 </th>\n",
    "</tr>\n",
    "\n",
    "<tr>\n",
    "<td> '^(?!Species$).*' </th>\n",
    "<td> Todo menos 'Species' </th>\n",
    "</tr>\n",
    "\n",
    "</table>"
   ]
  },
  {
   "cell_type": "markdown",
   "id": "6cbfa173-b678-4650-8a25-71cd54ca7c0b",
   "metadata": {},
   "source": [
    "# *Resumen de Datos*"
   ]
  },
  {
   "cell_type": "markdown",
   "id": "34c0bb7e-3a7a-488a-ab45-6490b73c0e16",
   "metadata": {},
   "source": [
    "    >>> df['w'].value_counts()   #Cuenta la cantidad de filas (sin repetir)\n",
    "    >>> len(df)                  #Es el número de filas en el DataFrame\n",
    "    >>> df.shape                 #Tupla con el número de filas y columnas\n",
    "    >>> df['w'].nunique()        #Cantidad de elementos distintos en una columna\n",
    "    >>> df.describe()            #Descripción básica y estadística de cada columna\n",
    "    >>> sum()                    #Suma los elementos de cada objeto\n",
    "    >>> count()                  #Cuenta la cantidad de elementos no nulos\n",
    "    >>> median()                 #Calcula la mediana de cada objeto\n",
    "    >>> quantile([0.25,0.75])    #Brinda los cuantiles de cada objeto\n",
    "    >>> apply(function)          #Aplica una función a cada objeto\n",
    "    >>> min()                    #Calcula el mínimo a caba objeto\n",
    "    >>> max()                    #Calcula el máximo a cada objeto\n",
    "    >>> mean()                   #Calcula la media a caba objeto\n",
    "    >>> var()                    #Calcula la varianza a caba objeto\n",
    "    >>> std()                    #Calcula la desviación estándar a caba objeto\n",
    "    >>> max(axis=1)              #Calcula el máximo del eje indicado\n",
    "    >>> clip(lower=-10,upper=10) #Recorta el objeto según los límites dados\n",
    "    >>> min(axis=1)              #Calcula el mínimo del eje indicado\n",
    "    >>> abs()                    #Devuelve el valor absoluto"
   ]
  },
  {
   "cell_type": "markdown",
   "id": "41775fbf-e99d-4252-8b59-82f5a32cea20",
   "metadata": {},
   "source": [
    "# *Pérdida de Datos*"
   ]
  },
  {
   "cell_type": "markdown",
   "id": "a79dc3c9-8aad-4d4c-bb6c-0d83a3becea1",
   "metadata": {},
   "source": [
    "    >>> df.dropna()      #Elimina las filas que tengan algún elemento NA o NULL\n",
    "    >>> df.fillna(value) #Reemplaza los elementos NA/NULL por el valor dado"
   ]
  },
  {
   "cell_type": "markdown",
   "id": "a75c64a1-9c9f-4603-9031-4b5108a68d10",
   "metadata": {},
   "source": [
    "# *Agregar Columnas*"
   ]
  },
  {
   "cell_type": "markdown",
   "id": "0f8d3225-a6fb-45b9-9d20-086a68943873",
   "metadata": {},
   "source": [
    "    >>> df.assign(Area=lambda df: df.Length*df.Height)  #Computa y anexa una o más columnas\n",
    "    >>> df['Volume'] = df.Length*df.Height*df.Depth     #Agrega una columna\n",
    "    >>> pd.qcut(df.col, n, labels=False)                #Crea n intervalos en los que se distribuyen los datos de la columna dada"
   ]
  },
  {
   "cell_type": "markdown",
   "id": "bb5dfe33-6546-44e9-951f-e941f9aab45a",
   "metadata": {},
   "source": [
    "# *Agrupar Datos*"
   ]
  },
  {
   "cell_type": "markdown",
   "id": "914ea706-43d7-4493-a324-779e9a6cc737",
   "metadata": {},
   "source": [
    "    >>> df.groupby(by=\"col\")     #Regresa un objeto agrupado por los valores de la columna \"col\"\n",
    "    >>> df.groupby(level=\"ind\")  #Regresa un objeto agrupado por los valores en el índice cuyo nivel es \"ind\"\n",
    "    >>> size()                   #Tamaño de cada grupo\n",
    "    >>> agg(function)            #Aplica funciones sobre el DataFrame y lo sobreescribe dentro del mismo\n",
    "    >>> shift(1)                 #Recorre los elementos por 1\n",
    "    >>> rank(method='dense')     #Rankea los valores del objeto sin dejar espacios\n",
    "    >>> rank(method='min')       #Rankea los valores del objeto. Los empates toman el ranking más bajo.\n",
    "    >>> rank(pct=True)           #Rankea los valores del objeto en un intervalo [0, 1]\n",
    "    >>> rank(method='first')     #Rankea los valores del objeto. Los empates toman el primer valor.\n",
    "    >>> shift(-1)                #Copia de los valores desfazados por 1\n",
    "    >>> cumsum()                 #Suma acumulativa\n",
    "    >>> cummax()                 #Máximo acumulativo\n",
    "    >>> cummin()                 #Mínimo acumulativo\n",
    "    >>> cumprod()                #Producto acumulativo\n"
   ]
  },
  {
   "cell_type": "markdown",
   "id": "7190011b-e7a7-4eae-8e21-814b31f16643",
   "metadata": {},
   "source": [
    "# *Combinación de Data Sets*"
   ]
  },
  {
   "cell_type": "markdown",
   "id": "a3228254-7fea-4eda-9a95-1c52c2e6219f",
   "metadata": {},
   "source": [
    "    >>> pd.merge(adf, bdf, how='left', on='x1')         #Unión izquierda\n",
    "    >>> pd.merge(adf, bdf, how='right', on='x1')        #Unión derecha\n",
    "    >>> pd.merge(adf, bdf, how='inner', on='x1')        #Unión interna\n",
    "    >>> pd.merge(adf, bdf, how='outer', on='x1')        #Unión externa\n",
    "    >>> adf[adf.x1.isin(bdf.x1)]                        #Filas de adf que coinciden en bdf\n",
    "    >>> adf[~adf.x1.isin(bdf.x1)]                       #Filas de adf que no coinciden en bdf\n",
    "    >>> pd.merge(ydf, zdf)                              #Intersección\n",
    "    >>> pd.merge(ydf, zdf, how='outer')                 #Unión\n",
    "    >>> pd.merge(ydf, zdf, how='outer', indicator=True) #Filas de ydf que no están en zdf\n",
    "        .query('_merge == \"left_only\"')\n",
    "        .drop(columns=['_merge'])"
   ]
  },
  {
   "cell_type": "markdown",
   "id": "975aef96-6ff0-4f13-a696-391ca4b530a6",
   "metadata": {},
   "source": [
    "# *Ventanas*"
   ]
  },
  {
   "cell_type": "markdown",
   "id": "7d8df8c2-b242-4010-bb19-ae00873ab86d",
   "metadata": {},
   "source": [
    "    >>> df.expanding()   #Regresa un objeto extendido que permite aplicar funciones que resuman los datos de forma acumulativa.\n",
    "    >>> df.rolling(n)    #Regresa un objeto movil, el cual permite aplicar funciones de resumen en ventanas de longitud n."
   ]
  },
  {
   "cell_type": "markdown",
   "id": "e7ae9d04-c0ee-4efd-b805-2d7a3c43278d",
   "metadata": {},
   "source": [
    "# *Gráficas*"
   ]
  },
  {
   "cell_type": "markdown",
   "id": "afa109f1-ce70-4218-a5be-b1da1b687abf",
   "metadata": {},
   "source": [
    "    >>> df.plot.hist()                #Histograma de cada columna\n",
    "    >>> df.plot.scatter(x='w',y='h')  #Gráfico de dispersión con pares de puntos"
   ]
  }
 ],
 "metadata": {
  "kernelspec": {
   "display_name": "Python 3 (ipykernel)",
   "language": "python",
   "name": "python3"
  },
  "language_info": {
   "codemirror_mode": {
    "name": "ipython",
    "version": 3
   },
   "file_extension": ".py",
   "mimetype": "text/x-python",
   "name": "python",
   "nbconvert_exporter": "python",
   "pygments_lexer": "ipython3",
   "version": "3.12.5"
  }
 },
 "nbformat": 4,
 "nbformat_minor": 5
}
